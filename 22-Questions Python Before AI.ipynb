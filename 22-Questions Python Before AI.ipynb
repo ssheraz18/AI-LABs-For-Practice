{
  "cells": [
    {
      "cell_type": "code",
      "execution_count": 1,
      "metadata": {
        "id": "KXkro8-7bTDc"
      },
      "outputs": [],
      "source": [
        "def chickens(count):\n",
        "  if count>=10:\n",
        "    print(\"number of chiken : many\")\n",
        "  elif count<10:\n",
        "    print(\"number of chiken\",count)\n",
        "  pass\n",
        "  # LAB(end solution)\n"
      ]
    },
    {
      "cell_type": "code",
      "execution_count": 3,
      "metadata": {
        "id": "-Bzoj_dxbab4"
      },
      "outputs": [],
      "source": [
        "def string_both_ends_3(s):\n",
        "  if len(s) < 3:\n",
        "        return \"\"\n",
        "  else:\n",
        "        return s[:3] + s[-3:]\n",
        "  pass\n",
        "  # LAB(end solution)\n",
        "\n",
        "\n",
        "\n",
        "\n"
      ]
    },
    {
      "cell_type": "code",
      "execution_count": 28,
      "metadata": {
        "id": "89-n4vxQbcQ2"
      },
      "outputs": [],
      "source": [
        "def first_char_replace(s):\n",
        "    if len(s) < 2:\n",
        "        return s\n",
        "    else:\n",
        "        firstchar = s[0]\n",
        "        Replacestring = s.replace(firstchar, '@')\n",
        "        return firstchar + Replacestring[1:]\n",
        "    pass\n",
        "  # LAB(end solution)"
      ]
    },
    {
      "cell_type": "code",
      "execution_count": 7,
      "metadata": {
        "id": "2kbjAlDBbeLl"
      },
      "outputs": [],
      "source": [
        "def string_jumble(a, b):\n",
        "    if len(a) < 2 or len(b) < 2:\n",
        "        return \"\"\n",
        "    else:\n",
        "        new_a = b[:2] + a[2:]\n",
        "        new_b = a[:2] + b[2:]\n",
        "        return new_a,new_b\n",
        "    pass\n",
        "  # LAB(end solution)\n",
        "\n"
      ]
    },
    {
      "cell_type": "code",
      "execution_count": 8,
      "metadata": {
        "id": "7yLC3ffrbges"
      },
      "outputs": [],
      "source": [
        "def match_first_last(words):\n",
        "    count = 0\n",
        "    for s in words:\n",
        "        if len(s) >= 2 and s[0] == s[-1]:\n",
        "            count += 1\n",
        "    return count\n",
        "    pass\n",
        "  # LAB(end solution)\n"
      ]
    },
    {
      "cell_type": "code",
      "execution_count": 14,
      "metadata": {
        "id": "-KSpx8tDbiNr"
      },
      "outputs": [],
      "source": [
        "def group_strings(words):\n",
        "    a_words = []\n",
        "    other_words = []\n",
        "\n",
        "    for word in words:\n",
        "        if word.startswith('a'):\n",
        "            a_words.append(word)\n",
        "        else:\n",
        "            other_words.append(word)\n",
        "\n",
        "    return sorted(a_words) + sorted(other_words)\n",
        "    pass\n",
        "  # LAB(end solution)\n",
        "\n"
      ]
    },
    {
      "cell_type": "code",
      "execution_count": 25,
      "metadata": {
        "id": "bbdfkeD7bmFr"
      },
      "outputs": [],
      "source": [
        "def sort_last(tuples):\n",
        "    lastelements = []\n",
        "    for t in tuples:\n",
        "        last_element = t[-1]\n",
        "        lastelements.append((t, last_element))\n",
        "    lastelements.sort(key=lambda x:x[1])\n",
        "    sorted_tuples = [t for t, i in lastelements]\n",
        "\n",
        "    return sorted_tuples\n",
        "\n",
        "    pass\n",
        "  # LAB(end solution)"
      ]
    },
    {
      "cell_type": "code",
      "execution_count": 26,
      "metadata": {
        "id": "T8E4jaD5bnzK"
      },
      "outputs": [],
      "source": [
        "def main():\n",
        "  print ('Number of chickens')\n",
        "  print(chickens(4))\n",
        "  print(chickens(9))\n",
        "  print(chickens(10))\n",
        "  print(chickens(99))\n",
        "\n",
        "  print ('\\n3 characters from both ends')\n",
        "  print(string_both_ends_3('spring'))\n",
        "  print(string_both_ends_3('Intelligence'))\n",
        "  print(string_both_ends_3('a'))\n",
        "  print(string_both_ends_3('xyz'))\n",
        "\n",
        "  print ('\\nReplace occurrences of first character')\n",
        "  print(first_char_replace('babble'))\n",
        "  print(first_char_replace('aardvark'))\n",
        "  print(first_char_replace('google'))\n",
        "  print(first_char_replace('Ooogle'))\n",
        "\n",
        "  print ('\\nString Jumble')\n",
        "  print(string_jumble('mix', 'pod'))\n",
        "  print(string_jumble('dog', 'dinner'))\n",
        "  print(string_jumble('gnash', 'sport'))\n",
        "  print(string_jumble('pezzy', 'firm'))\n",
        "\n",
        "  print ('\\nMatching first and last characters')\n",
        "  print(match_first_last(['aba', 'xyz', 'aa', 'a', 'bbb']))\n",
        "  print(match_first_last(['', 'x', 'ay', 'ayx', 'ax']))\n",
        "  print(match_first_last(['aaa', 'be', 'abc', 'aello']))\n",
        "\n",
        "  print ('\\nGroup string in a list')\n",
        "  print(group_strings(['bbb', 'ccc', 'axx', 'xzz', 'aaa']))\n",
        "  print(group_strings(['ccc', 'abb', 'aaa', 'xcc', 'aaa']))\n",
        "  print(group_strings(['mix', 'xyz', 'apple', 'xanadu', 'aardvark']))\n",
        "\n",
        "  print ('\\nsort_last')\n",
        "  print(sort_last([(1, 3), (3, 2), (2, 1)]))\n",
        "  print(sort_last([(2, 3), (1, 2), (3, 1)]))\n",
        "  print(sort_last([(1, 7), (1, 3), (3, 4, 5), (2, 2)]))"
      ]
    },
    {
      "cell_type": "code",
      "execution_count": 27,
      "metadata": {
        "id": "cAmJUqYJbpwR",
        "colab": {
          "base_uri": "https://localhost:8080/"
        },
        "outputId": "048a478d-1a07-4b9b-8169-31cf232907b9"
      },
      "outputs": [
        {
          "output_type": "stream",
          "name": "stdout",
          "text": [
            "Number of chickens\n",
            "number of chiken 4\n",
            "None\n",
            "number of chiken 9\n",
            "None\n",
            "number of chiken : many\n",
            "None\n",
            "number of chiken : many\n",
            "None\n",
            "\n",
            "3 characters from both ends\n",
            "spring\n",
            "Intnce\n",
            "\n",
            "xyzxyz\n",
            "\n",
            "Replace occurrences of first character\n",
            "ba@@le\n",
            "a@rdv@rk\n",
            "goo@le\n",
            "Ooogle\n",
            "\n",
            "String Jumble\n",
            "('pox', 'mid')\n",
            "('dig', 'donner')\n",
            "('spash', 'gnort')\n",
            "('fizzy', 'perm')\n",
            "\n",
            "Matching first and last characters\n",
            "3\n",
            "0\n",
            "1\n",
            "\n",
            "Group string in a list\n",
            "['aaa', 'axx', 'bbb', 'ccc', 'xzz']\n",
            "['aaa', 'aaa', 'abb', 'ccc', 'xcc']\n",
            "['aardvark', 'apple', 'mix', 'xanadu', 'xyz']\n",
            "\n",
            "sort_last\n",
            "[(2, 1), (3, 2), (1, 3)]\n",
            "[(3, 1), (1, 2), (2, 3)]\n",
            "[(2, 2), (1, 3), (3, 4, 5), (1, 7)]\n"
          ]
        }
      ],
      "source": [
        "'''\n",
        "Python files .py are modules. Modules can define variables, functions, and classes.\n",
        "When a Python interpreter reads a Python file, it first sets a few special variables.\n",
        "Then it executes the code from the file.\n",
        "\n",
        "One of those variables is called __name__.\n",
        "\n",
        "When the interpreter runs a module, the __name__ variable will be set as  __main__\n",
        "if the module that is being run is the main program.\n",
        "\n",
        "If the code is importing the module from another module, then the __name__\n",
        "variable will be set to that module’s name.\n",
        "'''\n",
        "# Standard boilerplate to call the main() function.\n",
        "if __name__ == '__main__':\n",
        "  main()"
      ]
    },
    {
      "cell_type": "markdown",
      "source": [
        "#Ques 1"
      ],
      "metadata": {
        "id": "W57OmPfmbXzy"
      }
    },
    {
      "cell_type": "code",
      "source": [
        "def isPalindrome(s):\n",
        "\trev = ''.join(reversed(s))\n",
        "\tif (s == rev):\n",
        "\t\treturn True\n",
        "\treturn False\n",
        "\n",
        "s = \"Sheraz\"\n",
        "flag = isPalindrome(s)\n",
        "\n",
        "if (flag):\n",
        "\tprint(\"Yes\")\n",
        "else:\n",
        "\tprint(\"No\")\n"
      ],
      "metadata": {
        "colab": {
          "base_uri": "https://localhost:8080/"
        },
        "id": "DiNrT0XbbZeS",
        "outputId": "dd60d6b7-0658-4be5-a175-dba52036b8b3"
      },
      "execution_count": 40,
      "outputs": [
        {
          "output_type": "stream",
          "name": "stdout",
          "text": [
            "No\n"
          ]
        }
      ]
    },
    {
      "cell_type": "markdown",
      "source": [
        "#Ques 2"
      ],
      "metadata": {
        "id": "iNCf_3mnbbob"
      }
    },
    {
      "cell_type": "code",
      "source": [
        "def flatten(matrix):\n",
        "    flat_list = []\n",
        "    for row in matrix:\n",
        "        flat_list.extend(row)\n",
        "    return flat_list\n",
        "\n",
        "a = [[1, 2, 3], [4, 5]]\n",
        "\n",
        "a = flatten(a)\n",
        "\n",
        "print(a)"
      ],
      "metadata": {
        "colab": {
          "base_uri": "https://localhost:8080/"
        },
        "id": "s1e9Rf0ObbXi",
        "outputId": "c175e947-2dd1-4c43-d0d4-9c5a4bae502e"
      },
      "execution_count": 41,
      "outputs": [
        {
          "output_type": "stream",
          "name": "stdout",
          "text": [
            "[1, 2, 3, 4, 5]\n"
          ]
        }
      ]
    },
    {
      "cell_type": "markdown",
      "source": [
        "#Ques 3"
      ],
      "metadata": {
        "id": "GVhaGB6mbi-g"
      }
    },
    {
      "cell_type": "code",
      "source": [
        "def intersection(l1,l2):\n",
        "    intersected_list = []\n",
        "    for element in list1:\n",
        "        if element in list2:\n",
        "            intersected_list.append(element)\n",
        "    print(set(intersected_list))\n",
        "\n",
        "list1 = [1, 2, 3, 4, 5, 4, 5]\n",
        "list2 = [4, 5, 6, 7, 8, 4, 5]\n",
        "intersection(list1,list2)"
      ],
      "metadata": {
        "colab": {
          "base_uri": "https://localhost:8080/"
        },
        "id": "wp17w9ORbmEL",
        "outputId": "17e2e3d4-5b76-4422-f770-2f478ff322bc"
      },
      "execution_count": 42,
      "outputs": [
        {
          "output_type": "stream",
          "name": "stdout",
          "text": [
            "{4, 5}\n"
          ]
        }
      ]
    },
    {
      "cell_type": "markdown",
      "source": [
        "#Ques 4"
      ],
      "metadata": {
        "id": "_8wspZ9ob0ad"
      }
    },
    {
      "cell_type": "code",
      "source": [
        "def anagram(s1, s2):\n",
        "    if(sorted(s1)== sorted(s2)):\n",
        "        flag = 1\n",
        "    else:\n",
        "        flag = 0\n",
        "\n",
        "    return flag\n",
        "\n",
        "s1 =\"listen\"\n",
        "s2 =\"silent\"\n",
        "res = anagram(s1, s2)\n",
        "if(res == 1):\n",
        "  print(\"are anagrams\")\n",
        "else:\n",
        "  print(\"are not anagrams\")"
      ],
      "metadata": {
        "colab": {
          "base_uri": "https://localhost:8080/"
        },
        "id": "E1vd5m9Gb2c8",
        "outputId": "48f3e11a-a92f-4f28-cffa-6697252edb9f"
      },
      "execution_count": 43,
      "outputs": [
        {
          "output_type": "stream",
          "name": "stdout",
          "text": [
            "are anagrams\n"
          ]
        }
      ]
    },
    {
      "cell_type": "markdown",
      "source": [
        "#Ques 5"
      ],
      "metadata": {
        "id": "fDXbKKsOb9Hq"
      }
    },
    {
      "cell_type": "code",
      "source": [
        "def BS(l, x, low, high):\n",
        "    while low <= high:\n",
        "        mid = low + (high - low)//2\n",
        "        if l[mid] == x:\n",
        "            return mid\n",
        "        elif l[mid] < x:\n",
        "            low = mid + 1\n",
        "        else:\n",
        "            high = mid - 1\n",
        "    return -1\n",
        "\n",
        "l = [3, 4, 5, 6, 7, 8, 9]\n",
        "x = 9\n",
        "\n",
        "result = BS(l, x, 0, len(l)-1)\n",
        "\n",
        "if result != -1:\n",
        "    print(\"Index \" + str(result))\n",
        "else:\n",
        "    print(\"Not found\")"
      ],
      "metadata": {
        "colab": {
          "base_uri": "https://localhost:8080/"
        },
        "id": "npiqOpO6b_Pi",
        "outputId": "9b707cb9-e47c-445b-d755-ef27dc4d56f8"
      },
      "execution_count": 44,
      "outputs": [
        {
          "output_type": "stream",
          "name": "stdout",
          "text": [
            "Index 6\n"
          ]
        }
      ]
    },
    {
      "cell_type": "markdown",
      "source": [
        "#Ques 6"
      ],
      "metadata": {
        "id": "kS7a2EkIcDqC"
      }
    },
    {
      "cell_type": "code",
      "source": [
        "def mergeSort(array):\n",
        "    if len(array) > 1:\n",
        "\n",
        "        r = len(array)//2\n",
        "        L = array[:r]\n",
        "        M = array[r:]\n",
        "        mergeSort(L)\n",
        "        mergeSort(M)\n",
        "\n",
        "        i =0\n",
        "        j = 0\n",
        "        k = 0\n",
        "\n",
        "        while i < len(L) and j < len(M):\n",
        "            if L[i] < M[j]:\n",
        "                array[k] = L[i]\n",
        "                i += 1\n",
        "            else:\n",
        "                array[k] = M[j]\n",
        "                j += 1\n",
        "            k += 1\n",
        "\n",
        "        while i < len(L):\n",
        "            array[k] = L[i]\n",
        "            i += 1\n",
        "            k += 1\n",
        "\n",
        "        while j < len(M):\n",
        "            array[k] = M[j]\n",
        "            j += 1\n",
        "            k += 1\n",
        "\n",
        "def printList(array):\n",
        "    for i in range(len(array)):\n",
        "        print(array[i], end=\" \")\n",
        "    print()\n",
        "\n",
        "array = [6, 5, 12, 10, 9, 1]\n",
        "\n",
        "mergeSort(array)\n",
        "\n",
        "print(\"Sorted array is: \")\n",
        "printList(array)"
      ],
      "metadata": {
        "colab": {
          "base_uri": "https://localhost:8080/"
        },
        "id": "G4E1MLg4cFey",
        "outputId": "7368f77f-6967-4d9b-9ed7-fdce046371b2"
      },
      "execution_count": 45,
      "outputs": [
        {
          "output_type": "stream",
          "name": "stdout",
          "text": [
            "Sorted array is: \n",
            "1 5 6 9 10 12 \n"
          ]
        }
      ]
    },
    {
      "cell_type": "markdown",
      "source": [
        "Ques 7"
      ],
      "metadata": {
        "id": "vePmMg1tcKhE"
      }
    },
    {
      "cell_type": "code",
      "source": [
        "def Freq(l):\n",
        "\n",
        "\tfreq = {}\n",
        "\tfor item in l:\n",
        "\t\tif (item in freq):\n",
        "\t\t\tfreq[item] += 1\n",
        "\t\telse:\n",
        "\t\t\tfreq[item] = 1\n",
        "\n",
        "\tfor key, value in freq.items():\n",
        "\t\tprint(key,\":\" ,value)\n",
        "\n",
        "l = [1, 1, 1, 5, 5, 3, 1, 3, 3, 1, 4, 4, 4, 2, 2, 2, 2]\n",
        "Freq(l)"
      ],
      "metadata": {
        "colab": {
          "base_uri": "https://localhost:8080/"
        },
        "id": "VL_8zEwpcMBC",
        "outputId": "aff03cb7-723c-4ed3-d6db-f26980a09924"
      },
      "execution_count": 46,
      "outputs": [
        {
          "output_type": "stream",
          "name": "stdout",
          "text": [
            "1 : 5\n",
            "5 : 2\n",
            "3 : 3\n",
            "4 : 3\n",
            "2 : 4\n"
          ]
        }
      ]
    },
    {
      "cell_type": "markdown",
      "source": [
        "#Ques 8"
      ],
      "metadata": {
        "id": "H1Ai6sWGcP4a"
      }
    },
    {
      "cell_type": "code",
      "source": [
        "def count_distinct(l):\n",
        "  unique = []\n",
        "  counter = 0\n",
        "  for item in l:\n",
        "      if item not in unique:\n",
        "          counter += 1\n",
        "          unique.append(item)\n",
        "  print(counter)\n",
        "\n",
        "list1 = [1, 1, 1, 5, 5, 3, 1, 3, 3, 1, 4, 4, 4, 2, 2, 2, 2]\n",
        "x = count_distinct(list1)"
      ],
      "metadata": {
        "colab": {
          "base_uri": "https://localhost:8080/"
        },
        "id": "QLJmgmTTcSgC",
        "outputId": "5a658ca5-3559-4934-ad9a-83e3ee29788c"
      },
      "execution_count": 47,
      "outputs": [
        {
          "output_type": "stream",
          "name": "stdout",
          "text": [
            "5\n"
          ]
        }
      ]
    },
    {
      "cell_type": "markdown",
      "source": [
        "#Ques 9"
      ],
      "metadata": {
        "id": "ZZoGZBqHcU_7"
      }
    },
    {
      "cell_type": "code",
      "source": [
        "def union_inter(a,b):\n",
        "  a ,b = set(a), set(b)\n",
        "  return a.union(b) , a.intersection(b)\n",
        "\n",
        "x,y = union_inter((1,2,3),(1,2,3,4))\n",
        "print(\"union  \",x)\n",
        "print(\"intersection \",y)"
      ],
      "metadata": {
        "colab": {
          "base_uri": "https://localhost:8080/"
        },
        "id": "KAvr3RLfcWoG",
        "outputId": "b3d49a55-0bb2-4e6c-8cc4-98725b6b9f87"
      },
      "execution_count": 48,
      "outputs": [
        {
          "output_type": "stream",
          "name": "stdout",
          "text": [
            "union   {1, 2, 3, 4}\n",
            "intersection  {1, 2, 3}\n"
          ]
        }
      ]
    },
    {
      "cell_type": "markdown",
      "source": [
        "#Ques 10"
      ],
      "metadata": {
        "id": "JsEKaimGca-e"
      }
    },
    {
      "cell_type": "code",
      "source": [
        "def unique_values(input_dict):\n",
        "    return list(set(input_dict.values()))\n",
        "input_dict = {'x': 1, 'y': 2, 'z': 2, 'i': 5}\n",
        "print(unique_values(input_dict))"
      ],
      "metadata": {
        "colab": {
          "base_uri": "https://localhost:8080/"
        },
        "id": "V6MsZeysccy1",
        "outputId": "57ba30dc-75cd-422d-933d-e85383307c60"
      },
      "execution_count": 49,
      "outputs": [
        {
          "output_type": "stream",
          "name": "stdout",
          "text": [
            "[1, 2, 5]\n"
          ]
        }
      ]
    },
    {
      "cell_type": "markdown",
      "source": [
        "#Ques 11"
      ],
      "metadata": {
        "id": "S9ST8k9pcdZ1"
      }
    },
    {
      "cell_type": "code",
      "source": [
        "def most_frequent_keys(input_dict):\n",
        "    max_count = max(input_dict.values())\n",
        "    max_keys = []\n",
        "    for key, value in input_dict.items():\n",
        "        if value == max_count:\n",
        "            max_keys.append(key)\n",
        "    return max_keys\n",
        "input_dict = {'a': 1, 'b': 2, 'c': 2, 'd': 1, 'b': 2, 'c': 2}\n",
        "print(most_frequent_keys(input_dict))\n"
      ],
      "metadata": {
        "colab": {
          "base_uri": "https://localhost:8080/"
        },
        "id": "FTS6gtDsce7o",
        "outputId": "b0db747c-f15b-4c33-86f7-f66ffc816bfd"
      },
      "execution_count": 50,
      "outputs": [
        {
          "output_type": "stream",
          "name": "stdout",
          "text": [
            "['b', 'c']\n"
          ]
        }
      ]
    },
    {
      "cell_type": "markdown",
      "source": [
        "#Ques 12"
      ],
      "metadata": {
        "id": "Bs_jyPYDcfbd"
      }
    },
    {
      "cell_type": "code",
      "source": [
        "def merge(d1, d2):\n",
        "    merged_dict = d2.copy()\n",
        "    merged_dict.update(d1)\n",
        "    return merged_dict\n",
        "\n",
        "d1 = {'a': 1, 'b': 2}\n",
        "d2 = {'b': 6, 'c': 7}\n",
        "print(merge(d1, d2))"
      ],
      "metadata": {
        "colab": {
          "base_uri": "https://localhost:8080/"
        },
        "id": "2pvLXVQ-chC9",
        "outputId": "e9890d51-01cc-4a99-f886-a52b238b6f51"
      },
      "execution_count": 51,
      "outputs": [
        {
          "output_type": "stream",
          "name": "stdout",
          "text": [
            "{'b': 2, 'c': 7, 'a': 1}\n"
          ]
        }
      ]
    },
    {
      "cell_type": "markdown",
      "source": [
        "#Ques 13"
      ],
      "metadata": {
        "id": "JvszCJqSchV0"
      }
    },
    {
      "cell_type": "code",
      "source": [
        "def filter(dict_list, key):\n",
        "    result = []\n",
        "    for d in dict_list:\n",
        "        if key in d:\n",
        "            result.append(d)\n",
        "    return result\n",
        "\n",
        "dict_list = [{'a': 1, 'b': 2}, {'b': 3, 'c': 4}, {'a': 5, 'd': 6}, {'b': 3, 'c': 4},{'b': 3, 'c': 4}]\n",
        "key = 'a'\n",
        "print(filter(dict_list, key))"
      ],
      "metadata": {
        "colab": {
          "base_uri": "https://localhost:8080/"
        },
        "id": "OVsWQG6xciw1",
        "outputId": "f1e53431-4ff8-444a-8b7b-7094d937bbd8"
      },
      "execution_count": 52,
      "outputs": [
        {
          "output_type": "stream",
          "name": "stdout",
          "text": [
            "[{'a': 1, 'b': 2}, {'a': 5, 'd': 6}]\n"
          ]
        }
      ]
    },
    {
      "cell_type": "markdown",
      "source": [
        "#Ques 14"
      ],
      "metadata": {
        "id": "U-4Vv6sAcjNE"
      }
    },
    {
      "cell_type": "code",
      "source": [
        "def find_duplicates(input_list):\n",
        "    element_count = {}\n",
        "    duplicates = []\n",
        "\n",
        "    for element in input_list:\n",
        "        if element in element_count:\n",
        "            element_count[element] += 1\n",
        "        else:\n",
        "            element_count[element] = 1\n",
        "\n",
        "    for element, count in element_count.items():\n",
        "        if count > 1:\n",
        "            duplicates.append(element)\n",
        "\n",
        "    return duplicates\n",
        "\n",
        "print(find_duplicates([1, 2, 3, 2, 1, 5, 6, 5, 5, 5]))\n"
      ],
      "metadata": {
        "colab": {
          "base_uri": "https://localhost:8080/"
        },
        "id": "gk2Zmylcckm9",
        "outputId": "b130438f-ee36-4668-f27c-0b750297062c"
      },
      "execution_count": 53,
      "outputs": [
        {
          "output_type": "stream",
          "name": "stdout",
          "text": [
            "[1, 2, 5]\n"
          ]
        }
      ]
    },
    {
      "cell_type": "markdown",
      "source": [
        "#ques 15"
      ],
      "metadata": {
        "id": "J-5zegTheXG5"
      }
    },
    {
      "cell_type": "code",
      "source": [
        "def count_distinct_elements(arr):\n",
        "    return len(set(arr))\n",
        "arr = [1, 2, 2, 3, 4, 2]\n",
        "print(count_distinct_elements(arr))"
      ],
      "metadata": {
        "id": "6YYfNqk_eY3Q",
        "outputId": "821cf117-ef88-4712-8957-b540cab65435",
        "colab": {
          "base_uri": "https://localhost:8080/"
        }
      },
      "execution_count": 54,
      "outputs": [
        {
          "output_type": "stream",
          "name": "stdout",
          "text": [
            "4\n"
          ]
        }
      ]
    },
    {
      "cell_type": "markdown",
      "source": [
        "#Ques 16"
      ],
      "metadata": {
        "id": "ZjnFiW3OWSSy"
      }
    },
    {
      "cell_type": "code",
      "source": [
        "def union_intersection(set1, set2):\n",
        "    union = set1.union(set2)\n",
        "    intersection = set1.intersection(set2)\n",
        "    return (union, intersection)\n",
        "\n",
        "set1 = {1, 2, 3}\n",
        "set2 = {2, 3, 4}\n",
        "print(union_intersection(set1, set2))\n"
      ],
      "metadata": {
        "colab": {
          "base_uri": "https://localhost:8080/"
        },
        "id": "K0J4PEXRWUC6",
        "outputId": "9fc38391-fd73-410c-b59e-4b9f105d49a4"
      },
      "execution_count": 39,
      "outputs": [
        {
          "output_type": "stream",
          "name": "stdout",
          "text": [
            "({1, 2, 3, 4}, {2, 3})\n"
          ]
        }
      ]
    },
    {
      "cell_type": "markdown",
      "source": [
        "#Ques 17"
      ],
      "metadata": {
        "id": "U6WDlcjPWCMA"
      }
    },
    {
      "cell_type": "code",
      "source": [
        "def unique_values(input_dict):\n",
        "    return list(set(input_dict.values()))\n",
        "input_dict = {'a': 1, 'b': 2, 'c': 2, 'd': 1}\n",
        "print(unique_values(input_dict))\n"
      ],
      "metadata": {
        "colab": {
          "base_uri": "https://localhost:8080/"
        },
        "id": "piuP5FYwWD8W",
        "outputId": "a13a7549-b03a-4b89-d666-4e8b461e8c6f"
      },
      "execution_count": 38,
      "outputs": [
        {
          "output_type": "stream",
          "name": "stdout",
          "text": [
            "[1, 2]\n"
          ]
        }
      ]
    },
    {
      "cell_type": "markdown",
      "source": [
        "#Ques 18"
      ],
      "metadata": {
        "id": "abieJfJ7VtY9"
      }
    },
    {
      "cell_type": "code",
      "source": [
        "def most_frequent_keys(input_dict):\n",
        "    max_count = max(input_dict.values())\n",
        "    max_keys = []\n",
        "    for key, value in input_dict.items():\n",
        "        if value == max_count:\n",
        "            max_keys.append(key)\n",
        "    return max_keys\n",
        "input_dict = {'a': 1, 'b': 2, 'c': 2, 'd': 1, 'b': 2, 'c': 2}\n",
        "print(most_frequent_keys(input_dict))\n"
      ],
      "metadata": {
        "colab": {
          "base_uri": "https://localhost:8080/"
        },
        "id": "nNEgcgUHVvLy",
        "outputId": "7b1c025d-b9b5-44a7-c22a-dd511964d9ac"
      },
      "execution_count": 36,
      "outputs": [
        {
          "output_type": "stream",
          "name": "stdout",
          "text": [
            "['b', 'c']\n"
          ]
        }
      ]
    },
    {
      "cell_type": "markdown",
      "source": [
        "#Ques 19"
      ],
      "metadata": {
        "id": "0GyKVJ-NUjv0"
      }
    },
    {
      "cell_type": "code",
      "source": [
        "def merge_dicts(d1, d2):\n",
        "    merged_dict = d2.copy()\n",
        "    merged_dict.update(d1)\n",
        "    return merged_dict\n",
        "\n",
        "d1 = {'a': 1, 'b': 2}\n",
        "d2 = {'b': 3, 'c': 4}\n",
        "print(merge_dicts(d1, d2))\n"
      ],
      "metadata": {
        "colab": {
          "base_uri": "https://localhost:8080/"
        },
        "id": "5I4ytVj1UoAU",
        "outputId": "19ffcf6b-290a-4f8a-e751-e0e7d0c89caf"
      },
      "execution_count": 37,
      "outputs": [
        {
          "output_type": "stream",
          "name": "stdout",
          "text": [
            "{'b': 2, 'c': 4, 'a': 1}\n"
          ]
        }
      ]
    },
    {
      "cell_type": "markdown",
      "source": [
        "#Ques 20"
      ],
      "metadata": {
        "id": "iO4Lehl9T6J5"
      }
    },
    {
      "cell_type": "code",
      "source": [
        "def filter_dicts(dict_list, key):\n",
        "    result = []\n",
        "    for d in dict_list:\n",
        "        if key in d:\n",
        "            result.append(d)\n",
        "    return result\n",
        "\n",
        "dict_list = [{'a': 1, 'b': 2}, {'b': 3, 'c': 4}, {'a': 5, 'd': 6}, {'b': 3, 'c': 4},{'b': 3, 'c': 4}]\n",
        "key = 'a'\n",
        "print(filter_dicts(dict_list, key))\n"
      ],
      "metadata": {
        "colab": {
          "base_uri": "https://localhost:8080/"
        },
        "id": "pXsleRB5T9dU",
        "outputId": "f720e9d2-2499-4f79-b54d-0a3dbe4ca1d8"
      },
      "execution_count": 33,
      "outputs": [
        {
          "output_type": "stream",
          "name": "stdout",
          "text": [
            "[{'a': 1, 'b': 2}, {'a': 5, 'd': 6}]\n"
          ]
        }
      ]
    },
    {
      "cell_type": "markdown",
      "source": [
        "#Ques 21"
      ],
      "metadata": {
        "id": "z1RbpoGQUxBw"
      }
    },
    {
      "cell_type": "code",
      "source": [
        "def find_duplicates(input_list):\n",
        "    element_count = {}\n",
        "    duplicates = []\n",
        "\n",
        "    for element in input_list:\n",
        "        if element in element_count:\n",
        "            element_count[element] += 1\n",
        "        else:\n",
        "            element_count[element] = 1\n",
        "\n",
        "    for element, count in element_count.items():\n",
        "        if count > 1:\n",
        "            duplicates.append(element)\n",
        "\n",
        "    return duplicates\n",
        "\n",
        "# Test the function\n",
        "print(find_duplicates([1, 2, 3, 2, 1, 5, 6, 5, 5, 5]))\n"
      ],
      "metadata": {
        "id": "He8zGL4iU0yQ"
      },
      "execution_count": null,
      "outputs": []
    }
  ],
  "metadata": {
    "colab": {
      "provenance": []
    },
    "kernelspec": {
      "name": "python3",
      "display_name": "Python 3"
    },
    "language_info": {
      "name": "python"
    }
  },
  "nbformat": 4,
  "nbformat_minor": 0
}