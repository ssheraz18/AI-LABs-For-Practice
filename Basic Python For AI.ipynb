{
  "nbformat": 4,
  "nbformat_minor": 0,
  "metadata": {
    "colab": {
      "provenance": []
    },
    "kernelspec": {
      "name": "python3",
      "display_name": "Python 3"
    },
    "language_info": {
      "name": "python"
    }
  },
  "cells": [
    {
      "cell_type": "code",
      "source": [
        "import pandas as pd\n",
        "import numpy as np"
      ],
      "metadata": {
        "id": "LDHvchRDHrVW"
      },
      "execution_count": null,
      "outputs": []
    },
    {
      "cell_type": "markdown",
      "source": [
        "#Ques-1"
      ],
      "metadata": {
        "id": "IrnHfJ1WFFil"
      }
    },
    {
      "cell_type": "code",
      "execution_count": null,
      "metadata": {
        "id": "IFxXKK29ATJf",
        "colab": {
          "base_uri": "https://localhost:8080/"
        },
        "outputId": "9f6873b8-3f4a-4473-f171-322b42468d5a"
      },
      "outputs": [
        {
          "output_type": "stream",
          "name": "stdout",
          "text": [
            "5\n"
          ]
        }
      ],
      "source": [
        "\n",
        "num = 10001\n",
        "count = 1\n",
        "while num > 10:\n",
        "  num = num / 10\n",
        "  count += 1\n",
        "print(count)\n"
      ]
    },
    {
      "cell_type": "markdown",
      "source": [
        "#Ques-2"
      ],
      "metadata": {
        "id": "Rr82Z2i4FKFW"
      }
    },
    {
      "cell_type": "code",
      "source": [
        "\n",
        "def arr_fun(arr):\n",
        "    lenn=len(arr)\n",
        "    for i in range(1,lenn):\n",
        "        arr[i] = arr[i-1] + arr[i]\n",
        "    return arr\n",
        "manu=arr_fun([5.8 , 2.6 , 9.1 , 3.4 , 7.0])\n",
        "print(manu)"
      ],
      "metadata": {
        "colab": {
          "base_uri": "https://localhost:8080/"
        },
        "id": "kB0vlgKjE1kv",
        "outputId": "1babfa0a-f23c-482a-d122-ec0842c61e40"
      },
      "execution_count": null,
      "outputs": [
        {
          "output_type": "stream",
          "name": "stdout",
          "text": [
            "[5.8, 8.4, 17.5, 20.9, 27.9]\n"
          ]
        }
      ]
    },
    {
      "cell_type": "markdown",
      "source": [
        "#Ques-3"
      ],
      "metadata": {
        "id": "Q3FfSOD6GwhP"
      }
    },
    {
      "cell_type": "code",
      "source": [
        "f = open(\"/file.txt\",\"r\")\n",
        "print(f.read())\n",
        "\n"
      ],
      "metadata": {
        "colab": {
          "base_uri": "https://localhost:8080/"
        },
        "id": "c75nryKdE30L",
        "outputId": "e4455c25-b329-4bf2-cd3f-770cf7556d51"
      },
      "execution_count": null,
      "outputs": [
        {
          "output_type": "stream",
          "name": "stdout",
          "text": [
            "Hello, I am a student of FAST University. This is my First Lab of AI. Course code is CL2001 and my roll number is 22L-2349.\n"
          ]
        }
      ]
    },
    {
      "cell_type": "code",
      "source": [
        "f = open(\"/file.txt\",\"r\")\n",
        "for word in f:\n",
        "\n",
        "  i=word\n",
        "  print(i)\n"
      ],
      "metadata": {
        "colab": {
          "base_uri": "https://localhost:8080/"
        },
        "id": "djJVpszHJpC_",
        "outputId": "dbee0dd6-5497-4ec3-8016-a078061624ca"
      },
      "execution_count": null,
      "outputs": [
        {
          "output_type": "stream",
          "name": "stdout",
          "text": [
            "Hello, I am a student of FAST University. This is my First Lab of AI. Course code is CL2001 and my roll number is 22L-2349.\n"
          ]
        }
      ]
    },
    {
      "cell_type": "code",
      "source": [
        "upper=0\n",
        "lower=0\n",
        "digit=0\n",
        "space=0\n",
        "letter=0\n",
        "for k in i:\n",
        "  for j in k:\n",
        "   if j>='a' and j<='z':\n",
        "    lower+=1\n",
        "   if j>='A' and j<='Z':\n",
        "    upper+=1\n",
        "   if j>='0' and j<='9':\n",
        "    digit+=1\n",
        "   if j==' ':\n",
        "    space+=1\n",
        "   a=len(i)\n",
        "print(upper)\n",
        "print(lower)\n",
        "print(digit)\n",
        "print(space)\n",
        "print(a)\n",
        "\n",
        "\n"
      ],
      "metadata": {
        "colab": {
          "base_uri": "https://localhost:8080/"
        },
        "id": "eV3ojLMNMECu",
        "outputId": "dbfe93bc-4744-428a-fb94-7697f8c94ea0"
      },
      "execution_count": null,
      "outputs": [
        {
          "output_type": "stream",
          "name": "stdout",
          "text": [
            "16\n",
            "68\n",
            "10\n",
            "24\n",
            "123\n"
          ]
        }
      ]
    },
    {
      "cell_type": "markdown",
      "source": [
        "#Ques-4"
      ],
      "metadata": {
        "id": "0l1VQZcnTxHi"
      }
    },
    {
      "cell_type": "code",
      "source": [
        "def calTimestamp(targetDate):\n",
        "  referenceDate = \"2000-09-01\"\n",
        "\n",
        "  days = int(targetDate.split(\" \")[0].split('-')[2]) - int(referenceDate.split(\" \")[0].split('-')[2])\n",
        "  months = int(targetDate.split(\" \")[0].split('-')[1]) - int(referenceDate.split(\" \")[0].split('-')[1])\n",
        "  years = int(targetDate.split(\" \")[0].split('-')[0]) - int(referenceDate.split(\" \")[0].split('-')[0])\n",
        "  hours = int(targetDate.split(\" \")[1].split(':')[0])\n",
        "  minutes = int(targetDate.split(\" \")[1].split(':')[1])\n",
        "  secs = int(targetDate.split(\" \")[1].split(':')[-1].split('.')[0])\n",
        "  print('seconds',secs)\n",
        "  Days = (years*365) + (months*30) + days\n",
        "  timestamp = (Days*86400) + (hours * 3600) + (minutes*60) + secs\n",
        "  print('timestamp',timestamp)\n",
        "calTimestamp(\"2024-01-29 07:53:31.715391\")"
      ],
      "metadata": {
        "colab": {
          "base_uri": "https://localhost:8080/"
        },
        "id": "OoKwBGijT1f1",
        "outputId": "941797a4-b1cf-45d2-9f6d-2334debf23d5"
      },
      "execution_count": null,
      "outputs": [
        {
          "output_type": "stream",
          "name": "stdout",
          "text": [
            "seconds 31\n",
            "timestamp 738575611\n"
          ]
        }
      ]
    },
    {
      "cell_type": "markdown",
      "source": [
        "#Ques-5"
      ],
      "metadata": {
        "id": "3DXkfacjPFc3"
      }
    },
    {
      "cell_type": "code",
      "source": [
        "class node():\n",
        "  def init(self, state, parent, action,array):\n",
        "    self.parent = parent\n",
        "    self.action = action\n",
        "    self.state = state\n",
        "    self.arr = array\n",
        "\n",
        "\n",
        "\n",
        "\n",
        "class Maze():\n",
        "  def init(self):\n",
        "    self.arr = [0,'A',0,0,0,0,\n",
        "                0,0,1,0,0,0,\n",
        "                0,0,0,1,0,0,\n",
        "                0,0,0,0,'B',0,]\n",
        "    self.num_explored = 0\n",
        "\n",
        "\n",
        "\n",
        "\n",
        "\n",
        "\n",
        "\n"
      ],
      "metadata": {
        "id": "UUs1jVw7c7ZJ"
      },
      "execution_count": 72,
      "outputs": []
    }
  ]
}