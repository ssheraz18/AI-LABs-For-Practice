{
  "nbformat": 4,
  "nbformat_minor": 0,
  "metadata": {
    "colab": {
      "provenance": []
    },
    "kernelspec": {
      "name": "python3",
      "display_name": "Python 3"
    },
    "language_info": {
      "name": "python"
    }
  },
  "cells": [
    {
      "cell_type": "code",
      "source": [
        "import numpy as np\n",
        "\n",
        "class Perceptron:\n",
        "    def __init__(self, num_inputs, learning_rate=0.1):\n",
        "        self.num_inputs = num_inputs\n",
        "        self.learning_rate = learning_rate\n",
        "        self.weights = np.zeros(num_inputs)\n",
        "        self.bias = 0\n",
        "\n",
        "    def predict(self, inputs):\n",
        "        summation = np.dot(inputs, self.weights) + self.bias\n",
        "        return 1 if summation > 0 else 0\n",
        "\n",
        "    def train(self, training_inputs, labels):\n",
        "        while True:\n",
        "            for inputs, label in zip(training_inputs, labels):\n",
        "                prediction = self.predict(inputs)\n",
        "                self.weights += self.learning_rate * (label - prediction) * inputs\n",
        "                self.bias += self.learning_rate * (label - prediction)\n",
        "            if np.all([self.predict(inputs) == label for inputs, label in zip(training_inputs, labels)]):\n",
        "                break\n",
        "\n",
        "or_gate_inputs = np.array([[0, 0], [0, 1], [1, 0], [1, 1]])\n",
        "or_gate_labels = np.array([0, 1, 1, 1])\n",
        "\n",
        "and_gate_inputs = np.array([[0, 0], [0, 1], [1, 0], [1, 1]])\n",
        "and_gate_labels = np.array([0, 0, 0, 1])\n",
        "\n",
        "or_perceptron = Perceptron(2)\n",
        "and_perceptron = Perceptron(2)\n",
        "\n",
        "or_perceptron.train(or_gate_inputs, or_gate_labels)\n",
        "and_perceptron.train(and_gate_inputs, and_gate_labels)\n",
        "\n",
        "print(\"OR gate:\")\n",
        "for inputs in or_gate_inputs:\n",
        "    output = or_perceptron.predict(inputs)\n",
        "    print(f\"{inputs} -> {output}\")\n",
        "\n",
        "print(\"\\nAND gate:\")\n",
        "for inputs in and_gate_inputs:\n",
        "    output = and_perceptron.predict(inputs)\n",
        "    print(f\"{inputs} -> {output}\")\n"
      ],
      "metadata": {
        "colab": {
          "base_uri": "https://localhost:8080/"
        },
        "id": "QiEPEuKXPLbi",
        "outputId": "d537fbff-551a-4d5c-8972-bc3802d262c4"
      },
      "execution_count": null,
      "outputs": [
        {
          "output_type": "stream",
          "name": "stdout",
          "text": [
            "OR gate:\n",
            "[0 0] -> 0\n",
            "[0 1] -> 1\n",
            "[1 0] -> 1\n",
            "[1 1] -> 1\n",
            "\n",
            "AND gate:\n",
            "[0 0] -> 0\n",
            "[0 1] -> 0\n",
            "[1 0] -> 0\n",
            "[1 1] -> 1\n"
          ]
        }
      ]
    },
    {
      "cell_type": "code",
      "source": [
        "import pandas as pd\n",
        "df = pd.read_csv('horseRacing.csv')\n",
        "df.dropna(inplace=True)\n",
        "df['price'] = df['price'].apply(lambda x: 0 if x == 0 else 1)"
      ],
      "metadata": {
        "id": "NpfBuyAUPPwq"
      },
      "execution_count": null,
      "outputs": []
    },
    {
      "cell_type": "code",
      "source": [
        "import matplotlib.pyplot as plt\n",
        "import seaborn as sns\n",
        "sns.countplot(x='price', data=df)\n",
        "plt.show()\n"
      ],
      "metadata": {
        "colab": {
          "base_uri": "https://localhost:8080/",
          "height": 449
        },
        "id": "vlBae1zDP8_v",
        "outputId": "eca121f0-c2a8-4eed-a3f3-2ae36e91ea09"
      },
      "execution_count": null,
      "outputs": [
        {
          "output_type": "display_data",
          "data": {
            "text/plain": [
              "<Figure size 640x480 with 1 Axes>"
            ],
            "image/png": "[encoded data removed]"
          },
          "metadata": {}
        }
      ]
    },
    {
      "cell_type": "code",
      "source": [
        "df = pd.get_dummies(df, columns=['race_id'])\n",
        "\n",
        "df = pd.get_dummies(df, columns=['horse_id'])\n"
      ],
      "metadata": {
        "id": "3nQ6uh4vP9ss"
      },
      "execution_count": null,
      "outputs": []
    },
    {
      "cell_type": "code",
      "source": [
        "from sklearn.model_selection import train_test_split\n",
        "from sklearn.neural_network import MLPClassifier\n",
        "from sklearn.metrics import accuracy_score\n",
        "\n",
        "X = df.drop(columns=['price'])\n",
        "y = df['price']\n",
        "\n",
        "X_train, X_test, y_train, y_test = train_test_split(X, y, test_size=0.2, random_state=42)\n",
        "\n",
        "mlp = MLPClassifier(hidden_layer_sizes=(100, 50), max_iter=500)\n",
        "mlp.fit(X_train, y_train)\n",
        "\n",
        "predictions = mlp.predict(X_test)\n",
        "accuracy = accuracy_score(y_test, predictions)\n",
        "print(\"Accuracy:\", accuracy)\n"
      ],
      "metadata": {
        "colab": {
          "base_uri": "https://localhost:8080/"
        },
        "id": "f9WtW5C2QCDZ",
        "outputId": "731e392c-1f0b-4a98-fbe8-ed39985c7f20"
      },
      "execution_count": null,
      "outputs": [
        {
          "output_type": "stream",
          "name": "stdout",
          "text": [
            "Accuracy: 1.0\n"
          ]
        }
      ]
    }
  ]
}