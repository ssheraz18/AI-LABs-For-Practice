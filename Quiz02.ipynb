{
  "nbformat": 4,
  "nbformat_minor": 0,
  "metadata": {
    "colab": {
      "provenance": []
    },
    "kernelspec": {
      "name": "python3",
      "display_name": "Python 3"
    },
    "language_info": {
      "name": "python"
    }
  },
  "cells": [
    {
      "cell_type": "markdown",
      "source": [
        "This is an individual Quiz and You are supposed to complete it in 1 hour AKA 60 Minutes. Please adhere to the following guidelines:-\n",
        "\n",
        "* You are in exam conditions, not communication is allowed. If will cancel\n",
        "\n",
        "* your quiz and mark your absent in case of any problems.\n",
        "\n",
        "* Understanding is part of this quiz, do not ask any questions, if you have confusions, assume things, and write your assumptions, No quires, means no quires\n",
        "\n",
        "* No extra time will be awarded.\n",
        "\n",
        "* The Quiz have 5 abs weightage so be very careful\n",
        "\n",
        "* Mobile phone should be off.\n",
        "\n",
        "* No help from internet is allowed.\n",
        "\n",
        "* Cheating cases will be reported to DC\n",
        "\n",
        "* Pass your smiles in the caffe after this exam, this is not a right place for socialization\n",
        "\n",
        "Good luck."
      ],
      "metadata": {
        "id": "JJI6lAIsRRU7"
      }
    },
    {
      "cell_type": "code",
      "source": [
        "import random\n",
        "import unittest"
      ],
      "metadata": {
        "id": "pWyqpa18Na_f"
      },
      "execution_count": 11,
      "outputs": []
    },
    {
      "cell_type": "code",
      "source": [
        "# Genetic Algorithm Components\n",
        "def fitness(individual):\n",
        "    target = 50\n",
        "    return -abs(target - sum(individual))"
      ],
      "metadata": {
        "id": "t1_lzDfVNcyu"
      },
      "execution_count": 12,
      "outputs": []
    },
    {
      "cell_type": "markdown",
      "source": [
        ":Q. No: 1 - Complete the following function which perfroms the mutution ! **5 marks**"
      ],
      "metadata": {
        "id": "q7GNepq0NxVg"
      }
    },
    {
      "cell_type": "code",
      "source": [
        "def mutate(individual, mutation_rate=0.01):\n",
        "    for i in range(len(individual)):\n",
        "        if random.random() < mutation_rate:\n",
        "            individual[i] = 1 - individual[i]\n",
        "    return individual\n"
      ],
      "metadata": {
        "id": "q3c94gWcq-zb"
      },
      "execution_count": 20,
      "outputs": []
    },
    {
      "cell_type": "markdown",
      "source": [
        ":Q. No: 2 - Complete the following function which perfroms the crossover ! **5 marks**"
      ],
      "metadata": {
        "id": "koqoeN7cOuaT"
      }
    },
    {
      "cell_type": "code",
      "source": [
        "def crossover(parent1, parent2):\n",
        "    if len(parent1) == 0 or len(parent1) != len(parent2):\n",
        "        raise ValueError(\"Parents Error\")\n",
        "    crossover_point = 2\n",
        "    child1 = parent1[:crossover_point] + parent2[crossover_point:]\n",
        "    child2 = parent2[:crossover_point] + parent1[crossover_point:]\n",
        "    return child1, child2\n"
      ],
      "metadata": {
        "id": "LkQGxwCkrPTF"
      },
      "execution_count": 19,
      "outputs": []
    },
    {
      "cell_type": "markdown",
      "source": [
        "Basic Definations for Min Max and alpha Beta"
      ],
      "metadata": {
        "id": "QYvYt6FfPJUK"
      }
    },
    {
      "cell_type": "code",
      "source": [
        "class Node:\n",
        "    def __init__(self, value=None, children=None):\n",
        "        self.value = value\n",
        "        self.children = children if children is not None else []\n",
        "    def is_terminal(self):\n",
        "        return len(self.children) == 0\n",
        "def setup_test_nodes():\n",
        "    level3_nodes = [Node(3), Node(15), Node(5)]\n",
        "    level2_nodes = [Node(children=[level3_nodes[0], level3_nodes[1]]), Node(children=[level3_nodes[2]])]\n",
        "    root = Node(children=level2_nodes)\n",
        "    return root"
      ],
      "metadata": {
        "id": "1w6m-pWsriW4"
      },
      "execution_count": 15,
      "outputs": []
    },
    {
      "cell_type": "markdown",
      "source": [
        "Q. No: 3 - Complete the following function which perfroms the min_max ! **5 marks**\n",
        "\n",
        "> Add blockquote\n",
        "\n"
      ],
      "metadata": {
        "id": "AfcD4n5GPNuU"
      }
    },
    {
      "cell_type": "code",
      "source": [
        "\n",
        "\n",
        "def min_max(node, depth, is_maximizing_player):\n",
        "    if depth == 0 or node.is_terminal():\n",
        "        return node.value\n",
        "\n",
        "    if is_maximizing_player:\n",
        "        value = -float('inf')\n",
        "        for child in node.children:\n",
        "            child_value = min_max(child, depth - 1, False)\n",
        "            value = max(value, child_value)\n",
        "        return value\n",
        "    else:\n",
        "        value = float('inf')\n",
        "        for child in node.children:\n",
        "            child_value = min_max(child, depth - 1, True)\n",
        "            value = min(value, child_value)\n",
        "        return value\n"
      ],
      "metadata": {
        "id": "sVZvuRucryK0"
      },
      "execution_count": 16,
      "outputs": []
    },
    {
      "cell_type": "markdown",
      "source": [
        "Q. No: 4 - Complete the following function which perfroms the min_max ! **5 marks**"
      ],
      "metadata": {
        "id": "1VqsAl9cPXC5"
      }
    },
    {
      "cell_type": "code",
      "source": [
        "def alpha_beta(node, depth, alpha, beta, is_maximizing_player):\n",
        "    if depth == 0 or node.is_terminal():\n",
        "        return node.value\n",
        "    if is_maximizing_player:\n",
        "        value = -float('inf')\n",
        "        for child in node.children:\n",
        "            value = max(value, alpha_beta(child, depth - 1, alpha, beta, False))\n",
        "            alpha = max(alpha, value)\n",
        "            if beta <= alpha:\n",
        "                break\n",
        "        return value\n",
        "    else:\n",
        "        value = float('inf')\n",
        "        for child in node.children:\n",
        "            value = min(value, alpha_beta(child, depth - 1, alpha, beta, True))\n",
        "            beta = min(beta, value)\n",
        "            if beta <= alpha:\n",
        "                break\n",
        "        return value\n"
      ],
      "metadata": {
        "id": "YgvcZeebsVRC"
      },
      "execution_count": 17,
      "outputs": []
    },
    {
      "cell_type": "code",
      "source": [
        "# Unit Testing\n",
        "class TestAlgorithms(unittest.TestCase):\n",
        "    def test_mutate(self):\n",
        "        individual = [5, 5, 5, 5, 5]\n",
        "        mutated = mutate(individual, mutation_rate=1)  # Forcing mutation\n",
        "        self.assertNotEqual(mutated, [5, 5, 5, 5, 5], \"Mutation did not occur\")\n",
        "\n",
        "    def test_crossover(self):\n",
        "        parent1 = [1, 2, 3, 4, 5]\n",
        "        parent2 = [6, 7, 8, 9, 10]\n",
        "        child1, child2 = crossover(parent1, parent2)\n",
        "        self.assertEqual(child1, [1, 2, 8, 9, 10], \"Crossover child1 incorrect\")\n",
        "        self.assertEqual(child2, [6, 7, 3, 4, 5], \"Crossover child2 incorrect\")\n",
        "\n",
        "    def test_min_max(self):\n",
        "        root = setup_test_nodes()\n",
        "        # Assuming the test starts with maximizing at the root\n",
        "        self.assertEqual(min_max(root, 3, True), 5, \"Min-Max minimization failed\")\n",
        "\n",
        "    def test_alpha_beta(self):\n",
        "        root = setup_test_nodes()\n",
        "        # Assuming the test starts with maximizing at the root\n",
        "        self.assertEqual(alpha_beta(root, 3, -float('inf'), float('inf'), True), 5, \"Alpha-Beta pruning minimization failed\")\n",
        "\n",
        "# Execute the tests\n",
        "unittest.main(argv=[''], exit=False)"
      ],
      "metadata": {
        "colab": {
          "base_uri": "https://localhost:8080/"
        },
        "id": "msr9BvVeNmKX",
        "outputId": "e395e26e-5980-4586-9969-7e4f983b90ee"
      },
      "execution_count": 18,
      "outputs": [
        {
          "output_type": "stream",
          "name": "stderr",
          "text": [
            "....\n",
            "----------------------------------------------------------------------\n",
            "Ran 4 tests in 0.009s\n",
            "\n",
            "OK\n"
          ]
        },
        {
          "output_type": "execute_result",
          "data": {
            "text/plain": [
              "<unittest.main.TestProgram at 0x7e08cc2272b0>"
            ]
          },
          "metadata": {},
          "execution_count": 18
        }
      ]
    }
  ]
}