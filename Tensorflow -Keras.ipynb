{
  "nbformat": 4,
  "nbformat_minor": 0,
  "metadata": {
    "colab": {
      "provenance": []
    },
    "kernelspec": {
      "name": "python3",
      "display_name": "Python 3"
    },
    "language_info": {
      "name": "python"
    }
  },
  "cells": [
    {
      "cell_type": "code",
      "source": [
        "!pip install keras\n"
      ],
      "metadata": {
        "colab": {
          "base_uri": "https://localhost:8080/"
        },
        "id": "C4dxjoc7lXXH",
        "outputId": "a53af25a-ba2e-49fa-e1e3-c5b127aae569"
      },
      "execution_count": 8,
      "outputs": [
        {
          "output_type": "stream",
          "name": "stdout",
          "text": [
            "Requirement already satisfied: keras in /usr/local/lib/python3.10/dist-packages (2.15.0)\n"
          ]
        }
      ]
    },
    {
      "cell_type": "code",
      "source": [
        "import tensorflow as tf\n",
        "from tensorflow.keras.datasets import mnist\n",
        "from tensorflow.keras.models import Sequential\n",
        "from tensorflow.keras.layers import Dense, Flatten\n",
        "from tensorflow.keras.utils import to_categorical\n",
        "from tensorflow.keras.datasets import fashion_mnist"
      ],
      "metadata": {
        "id": "KPeFat09kkdZ"
      },
      "execution_count": 9,
      "outputs": []
    },
    {
      "cell_type": "code",
      "execution_count": 2,
      "metadata": {
        "colab": {
          "base_uri": "https://localhost:8080/"
        },
        "id": "eSDkzoghbvVc",
        "outputId": "21b9bf69-742d-408e-e222-625d59c3c65d"
      },
      "outputs": [
        {
          "output_type": "stream",
          "name": "stdout",
          "text": [
            "Downloading data from https://storage.googleapis.com/tensorflow/tf-keras-datasets/mnist.npz\n",
            "11490434/11490434 [==============================] - 0s 0us/step\n",
            "Epoch 1/5\n",
            "422/422 [==============================] - 5s 7ms/step - loss: 0.7104 - accuracy: 0.8227 - val_loss: 0.3534 - val_accuracy: 0.9148\n",
            "Epoch 2/5\n",
            "422/422 [==============================] - 2s 4ms/step - loss: 0.3792 - accuracy: 0.8984 - val_loss: 0.2859 - val_accuracy: 0.9233\n",
            "Epoch 3/5\n",
            "422/422 [==============================] - 1s 3ms/step - loss: 0.3322 - accuracy: 0.9091 - val_loss: 0.2627 - val_accuracy: 0.9277\n",
            "Epoch 4/5\n",
            "422/422 [==============================] - 2s 4ms/step - loss: 0.3103 - accuracy: 0.9143 - val_loss: 0.2493 - val_accuracy: 0.9317\n",
            "Epoch 5/5\n",
            "422/422 [==============================] - 1s 3ms/step - loss: 0.2974 - accuracy: 0.9172 - val_loss: 0.2435 - val_accuracy: 0.9335\n",
            "313/313 [==============================] - 0s 2ms/step - loss: 0.2824 - accuracy: 0.9236\n",
            "Test accuracy: 0.9236000180244446\n"
          ]
        }
      ],
      "source": [
        "\n",
        "(train_images, train_labels), (test_images, test_labels) = mnist.load_data()\n",
        "train_images = train_images.reshape((60000, 28 * 28)) / 255.0\n",
        "test_images = test_images.reshape((10000, 28 * 28)) / 255.0\n",
        "train_labels = to_categorical(train_labels)\n",
        "test_labels = to_categorical(test_labels)\n",
        "model = Sequential()\n",
        "model.add(Dense(10, activation='softmax', input_shape=(28 * 28,)))\n",
        "model.compile(optimizer='adam',\n",
        "              loss='categorical_crossentropy',\n",
        "              metrics=['accuracy'])\n",
        "model.fit(train_images, train_labels, epochs=5, batch_size=128, validation_split=0.1)\n",
        "test_loss, test_acc = model.evaluate(test_images, test_labels)\n",
        "print('Test accuracy:', test_acc)\n",
        "\n",
        "\n"
      ]
    },
    {
      "cell_type": "code",
      "source": [
        "\n",
        "(train_images, train_labels), (test_images, test_labels) = fashion_mnist.load_data()\n",
        "train_images = train_images.reshape((60000, 28 * 28)) / 255.0\n",
        "test_images = test_images.reshape((10000, 28 * 28)) / 255.0\n",
        "train_labels = to_categorical(train_labels)\n",
        "test_labels = to_categorical(test_labels)\n",
        "model = Sequential()\n",
        "model.add(Dense(10, activation='softmax', input_shape=(28 * 28,)))\n",
        "model.compile(optimizer='adam',\n",
        "              loss='categorical_crossentropy',\n",
        "              metrics=['accuracy'])\n",
        "model.fit(train_images, train_labels, epochs=5, batch_size=128, validation_split=0.1)\n",
        "test_loss, test_acc = model.evaluate(test_images, test_labels)\n",
        "print('Test accuracy:', test_acc)\n"
      ],
      "metadata": {
        "colab": {
          "base_uri": "https://localhost:8080/"
        },
        "id": "p6oCIV9wbymI",
        "outputId": "022ef832-d4f6-49cb-eba0-52b89eaee3cb"
      },
      "execution_count": 3,
      "outputs": [
        {
          "output_type": "stream",
          "name": "stdout",
          "text": [
            "Downloading data from https://storage.googleapis.com/tensorflow/tf-keras-datasets/train-labels-idx1-ubyte.gz\n",
            "29515/29515 [==============================] - 0s 0us/step\n",
            "Downloading data from https://storage.googleapis.com/tensorflow/tf-keras-datasets/train-images-idx3-ubyte.gz\n",
            "26421880/26421880 [==============================] - 0s 0us/step\n",
            "Downloading data from https://storage.googleapis.com/tensorflow/tf-keras-datasets/t10k-labels-idx1-ubyte.gz\n",
            "5148/5148 [==============================] - 0s 0us/step\n",
            "Downloading data from https://storage.googleapis.com/tensorflow/tf-keras-datasets/t10k-images-idx3-ubyte.gz\n",
            "4422102/4422102 [==============================] - 0s 0us/step\n",
            "Epoch 1/5\n",
            "422/422 [==============================] - 2s 4ms/step - loss: 0.7582 - accuracy: 0.7536 - val_loss: 0.5548 - val_accuracy: 0.8170\n",
            "Epoch 2/5\n",
            "422/422 [==============================] - 1s 2ms/step - loss: 0.5245 - accuracy: 0.8264 - val_loss: 0.4883 - val_accuracy: 0.8298\n",
            "Epoch 3/5\n",
            "422/422 [==============================] - 1s 3ms/step - loss: 0.4811 - accuracy: 0.8387 - val_loss: 0.4680 - val_accuracy: 0.8392\n",
            "Epoch 4/5\n",
            "422/422 [==============================] - 1s 3ms/step - loss: 0.4585 - accuracy: 0.8466 - val_loss: 0.4643 - val_accuracy: 0.8395\n",
            "Epoch 5/5\n",
            "422/422 [==============================] - 1s 2ms/step - loss: 0.4438 - accuracy: 0.8496 - val_loss: 0.4395 - val_accuracy: 0.8482\n",
            "313/313 [==============================] - 0s 1ms/step - loss: 0.4726 - accuracy: 0.8336\n",
            "Test accuracy: 0.8335999846458435\n"
          ]
        }
      ]
    },
    {
      "cell_type": "code",
      "source": [
        "(train_images, train_labels), (test_images, test_labels) = mnist.load_data()\n",
        "train_images = train_images.reshape((60000, 28 * 28)) / 255.0\n",
        "test_images = test_images.reshape((10000, 28 * 28)) / 255.0\n",
        "train_labels = to_categorical(train_labels)\n",
        "test_labels = to_categorical(test_labels)\n",
        "model = Sequential()\n",
        "model.add(Dense(128, activation='relu', input_shape=(28 * 28,)))\n",
        "model.add(Dense(64, activation='relu'))\n",
        "model.add(Dense(10, activation='softmax'))\n",
        "model.compile(optimizer='adam',\n",
        "              loss='categorical_crossentropy',\n",
        "              metrics=['accuracy'])\n",
        "model.fit(train_images, train_labels, epochs=10, batch_size=128, validation_split=0.1)\n",
        "test_loss, test_acc = model.evaluate(test_images, test_labels)\n",
        "print('Test accuracy:', test_acc)\n"
      ],
      "metadata": {
        "colab": {
          "base_uri": "https://localhost:8080/"
        },
        "id": "dzriBlrkb1cL",
        "outputId": "0346e967-6477-4068-ec55-6681a4816d8f"
      },
      "execution_count": 4,
      "outputs": [
        {
          "output_type": "stream",
          "name": "stdout",
          "text": [
            "Epoch 1/10\n",
            "422/422 [==============================] - 3s 6ms/step - loss: 0.3471 - accuracy: 0.9013 - val_loss: 0.1426 - val_accuracy: 0.9605\n",
            "Epoch 2/10\n",
            "422/422 [==============================] - 3s 8ms/step - loss: 0.1381 - accuracy: 0.9590 - val_loss: 0.1078 - val_accuracy: 0.9697\n",
            "Epoch 3/10\n",
            "422/422 [==============================] - 2s 5ms/step - loss: 0.0971 - accuracy: 0.9704 - val_loss: 0.0824 - val_accuracy: 0.9742\n",
            "Epoch 4/10\n",
            "422/422 [==============================] - 2s 5ms/step - loss: 0.0725 - accuracy: 0.9779 - val_loss: 0.0779 - val_accuracy: 0.9775\n",
            "Epoch 5/10\n",
            "422/422 [==============================] - 2s 5ms/step - loss: 0.0562 - accuracy: 0.9830 - val_loss: 0.0761 - val_accuracy: 0.9773\n",
            "Epoch 6/10\n",
            "422/422 [==============================] - 2s 5ms/step - loss: 0.0469 - accuracy: 0.9855 - val_loss: 0.0759 - val_accuracy: 0.9780\n",
            "Epoch 7/10\n",
            "422/422 [==============================] - 3s 7ms/step - loss: 0.0378 - accuracy: 0.9887 - val_loss: 0.0704 - val_accuracy: 0.9793\n",
            "Epoch 8/10\n",
            "422/422 [==============================] - 3s 6ms/step - loss: 0.0330 - accuracy: 0.9899 - val_loss: 0.0699 - val_accuracy: 0.9793\n",
            "Epoch 9/10\n",
            "422/422 [==============================] - 2s 5ms/step - loss: 0.0249 - accuracy: 0.9928 - val_loss: 0.0713 - val_accuracy: 0.9802\n",
            "Epoch 10/10\n",
            "422/422 [==============================] - 2s 5ms/step - loss: 0.0203 - accuracy: 0.9940 - val_loss: 0.0812 - val_accuracy: 0.9790\n",
            "313/313 [==============================] - 1s 3ms/step - loss: 0.0856 - accuracy: 0.9764\n",
            "Test accuracy: 0.9764000177383423\n"
          ]
        }
      ]
    },
    {
      "cell_type": "code",
      "source": [
        "\n",
        "(train_images, train_labels), (test_images, test_labels) = fashion_mnist.load_data()\n",
        "train_images = train_images.reshape((60000, 28 * 28)) / 255.0\n",
        "test_images = test_images.reshape((10000, 28 * 28)) / 255.0\n",
        "train_labels = to_categorical(train_labels)\n",
        "test_labels = to_categorical(test_labels)\n",
        "model = Sequential()\n",
        "model.add(Dense(128, activation='relu', input_shape=(28 * 28,)))\n",
        "model.add(Dense(64, activation='relu'))\n",
        "model.add(Dense(10, activation='softmax'))\n",
        "model.compile(optimizer='adam',\n",
        "              loss='categorical_crossentropy',\n",
        "              metrics=['accuracy'])\n",
        "model.fit(train_images, train_labels, epochs=10, batch_size=128, validation_split=0.1)\n",
        "test_loss, test_acc = model.evaluate(test_images, test_labels)\n",
        "print('Test accuracy:', test_acc)\n"
      ],
      "metadata": {
        "colab": {
          "base_uri": "https://localhost:8080/"
        },
        "id": "zRQ2A3qScA2F",
        "outputId": "a753fead-6ecf-471b-98fd-0086483f225b"
      },
      "execution_count": 5,
      "outputs": [
        {
          "output_type": "stream",
          "name": "stdout",
          "text": [
            "Epoch 1/10\n",
            "422/422 [==============================] - 3s 5ms/step - loss: 0.5738 - accuracy: 0.8007 - val_loss: 0.4214 - val_accuracy: 0.8448\n",
            "Epoch 2/10\n",
            "422/422 [==============================] - 2s 5ms/step - loss: 0.3988 - accuracy: 0.8570 - val_loss: 0.3823 - val_accuracy: 0.8635\n",
            "Epoch 3/10\n",
            "422/422 [==============================] - 2s 5ms/step - loss: 0.3557 - accuracy: 0.8715 - val_loss: 0.3654 - val_accuracy: 0.8673\n",
            "Epoch 4/10\n",
            "422/422 [==============================] - 3s 6ms/step - loss: 0.3264 - accuracy: 0.8803 - val_loss: 0.3376 - val_accuracy: 0.8778\n",
            "Epoch 5/10\n",
            "422/422 [==============================] - 3s 6ms/step - loss: 0.3069 - accuracy: 0.8869 - val_loss: 0.3326 - val_accuracy: 0.8748\n",
            "Epoch 6/10\n",
            "422/422 [==============================] - 2s 5ms/step - loss: 0.2926 - accuracy: 0.8919 - val_loss: 0.3320 - val_accuracy: 0.8780\n",
            "Epoch 7/10\n",
            "422/422 [==============================] - 2s 5ms/step - loss: 0.2830 - accuracy: 0.8952 - val_loss: 0.3522 - val_accuracy: 0.8753\n",
            "Epoch 8/10\n",
            "422/422 [==============================] - 2s 5ms/step - loss: 0.2696 - accuracy: 0.9012 - val_loss: 0.3276 - val_accuracy: 0.8830\n",
            "Epoch 9/10\n",
            "422/422 [==============================] - 2s 5ms/step - loss: 0.2605 - accuracy: 0.9039 - val_loss: 0.3443 - val_accuracy: 0.8750\n",
            "Epoch 10/10\n",
            "422/422 [==============================] - 3s 7ms/step - loss: 0.2507 - accuracy: 0.9079 - val_loss: 0.3082 - val_accuracy: 0.8848\n",
            "313/313 [==============================] - 1s 2ms/step - loss: 0.3260 - accuracy: 0.8851\n",
            "Test accuracy: 0.8851000070571899\n"
          ]
        }
      ]
    },
    {
      "cell_type": "code",
      "source": [
        "\n",
        "(train_images, train_labels), (test_images, test_labels) = mnist.load_data()\n",
        "train_images = train_images.reshape((60000, 28 * 28)) / 255.0\n",
        "test_images = test_images.reshape((10000, 28 * 28)) / 255.0\n",
        "train_labels = to_categorical(train_labels)\n",
        "test_labels = to_categorical(test_labels)\n",
        "model = Sequential()\n",
        "model.add(Dense(512, activation='relu', input_shape=(28 * 28,)))\n",
        "model.add(Dense(256, activation='relu'))\n",
        "model.add(Dense(128, activation='relu'))\n",
        "model.add(Dense(64, activation='relu'))\n",
        "model.add(Dense(10, activation='softmax'))\n",
        "model.compile(optimizer='adam',\n",
        "              loss='categorical_crossentropy',\n",
        "              metrics=['accuracy'])\n",
        "model.fit(train_images, train_labels, epochs=10, batch_size=128, validation_split=0.1)\n",
        "test_loss, test_acc = model.evaluate(test_images, test_labels)\n",
        "print('Test accuracy:', test_acc)\n"
      ],
      "metadata": {
        "colab": {
          "base_uri": "https://localhost:8080/"
        },
        "id": "EAt55-yCcFVj",
        "outputId": "18c824b3-ae6b-4372-fa91-c684a5045d6c"
      },
      "execution_count": 6,
      "outputs": [
        {
          "output_type": "stream",
          "name": "stdout",
          "text": [
            "Epoch 1/10\n",
            "422/422 [==============================] - 8s 17ms/step - loss: 0.2567 - accuracy: 0.9235 - val_loss: 0.1113 - val_accuracy: 0.9655\n",
            "Epoch 2/10\n",
            "422/422 [==============================] - 7s 16ms/step - loss: 0.0935 - accuracy: 0.9710 - val_loss: 0.0879 - val_accuracy: 0.9732\n",
            "Epoch 3/10\n",
            "422/422 [==============================] - 7s 16ms/step - loss: 0.0606 - accuracy: 0.9804 - val_loss: 0.0946 - val_accuracy: 0.9738\n",
            "Epoch 4/10\n",
            "422/422 [==============================] - 6s 15ms/step - loss: 0.0462 - accuracy: 0.9852 - val_loss: 0.0736 - val_accuracy: 0.9803\n",
            "Epoch 5/10\n",
            "422/422 [==============================] - 7s 16ms/step - loss: 0.0357 - accuracy: 0.9880 - val_loss: 0.0758 - val_accuracy: 0.9798\n",
            "Epoch 6/10\n",
            "422/422 [==============================] - 6s 15ms/step - loss: 0.0273 - accuracy: 0.9910 - val_loss: 0.0730 - val_accuracy: 0.9820\n",
            "Epoch 7/10\n",
            "422/422 [==============================] - 7s 16ms/step - loss: 0.0287 - accuracy: 0.9907 - val_loss: 0.0911 - val_accuracy: 0.9773\n",
            "Epoch 8/10\n",
            "422/422 [==============================] - 7s 16ms/step - loss: 0.0172 - accuracy: 0.9946 - val_loss: 0.0867 - val_accuracy: 0.9780\n",
            "Epoch 9/10\n",
            "422/422 [==============================] - 6s 15ms/step - loss: 0.0235 - accuracy: 0.9919 - val_loss: 0.0696 - val_accuracy: 0.9835\n",
            "Epoch 10/10\n",
            "422/422 [==============================] - 7s 17ms/step - loss: 0.0186 - accuracy: 0.9938 - val_loss: 0.0768 - val_accuracy: 0.9815\n",
            "313/313 [==============================] - 1s 3ms/step - loss: 0.0852 - accuracy: 0.9763\n",
            "Test accuracy: 0.9763000011444092\n"
          ]
        }
      ]
    },
    {
      "cell_type": "code",
      "source": [
        "\n",
        "(train_images, train_labels), (test_images, test_labels) = fashion_mnist.load_data()\n",
        "train_images = train_images.reshape((60000, 28 * 28)) / 255.0\n",
        "test_images = test_images.reshape((10000, 28 * 28)) / 255.0\n",
        "train_labels = to_categorical(train_labels)\n",
        "test_labels = to_categorical(test_labels)\n",
        "model = Sequential()\n",
        "model.add(Dense(512, activation='relu', input_shape=(28 * 28,)))\n",
        "model.add(Dense(256, activation='relu'))\n",
        "model.add(Dense(128, activation='relu'))\n",
        "model.add(Dense(64, activation='relu'))\n",
        "model.add(Dense(10, activation='softmax'))\n",
        "model.compile(optimizer='adam',\n",
        "              loss='categorical_crossentropy',\n",
        "              metrics=['accuracy'])\n",
        "model.fit(train_images, train_labels, epochs=10, batch_size=128, validation_split=0.1)\n",
        "test_loss, test_acc = model.evaluate(test_images, test_labels)\n",
        "print('Test accuracy:', test_acc)\n"
      ],
      "metadata": {
        "colab": {
          "base_uri": "https://localhost:8080/"
        },
        "id": "Z_z97kuLcNg1",
        "outputId": "68ba0666-ef86-4078-eeae-a5a441cadfc0"
      },
      "execution_count": 7,
      "outputs": [
        {
          "output_type": "stream",
          "name": "stdout",
          "text": [
            "Epoch 1/10\n",
            "422/422 [==============================] - 8s 17ms/step - loss: 0.5199 - accuracy: 0.8140 - val_loss: 0.3874 - val_accuracy: 0.8632\n",
            "Epoch 2/10\n",
            "422/422 [==============================] - 6s 14ms/step - loss: 0.3660 - accuracy: 0.8670 - val_loss: 0.3561 - val_accuracy: 0.8663\n",
            "Epoch 3/10\n",
            "422/422 [==============================] - 7s 17ms/step - loss: 0.3294 - accuracy: 0.8788 - val_loss: 0.3556 - val_accuracy: 0.8687\n",
            "Epoch 4/10\n",
            "422/422 [==============================] - 6s 14ms/step - loss: 0.3010 - accuracy: 0.8891 - val_loss: 0.3356 - val_accuracy: 0.8792\n",
            "Epoch 5/10\n",
            "422/422 [==============================] - 7s 17ms/step - loss: 0.2853 - accuracy: 0.8934 - val_loss: 0.3267 - val_accuracy: 0.8803\n",
            "Epoch 6/10\n",
            "422/422 [==============================] - 6s 14ms/step - loss: 0.2710 - accuracy: 0.8984 - val_loss: 0.3204 - val_accuracy: 0.8802\n",
            "Epoch 7/10\n",
            "422/422 [==============================] - 7s 17ms/step - loss: 0.2550 - accuracy: 0.9046 - val_loss: 0.3501 - val_accuracy: 0.8783\n",
            "Epoch 8/10\n",
            "422/422 [==============================] - 6s 14ms/step - loss: 0.2477 - accuracy: 0.9069 - val_loss: 0.3249 - val_accuracy: 0.8875\n",
            "Epoch 9/10\n",
            "422/422 [==============================] - 7s 17ms/step - loss: 0.2367 - accuracy: 0.9100 - val_loss: 0.3374 - val_accuracy: 0.8830\n",
            "Epoch 10/10\n",
            "422/422 [==============================] - 6s 14ms/step - loss: 0.2244 - accuracy: 0.9145 - val_loss: 0.3125 - val_accuracy: 0.8898\n",
            "313/313 [==============================] - 1s 3ms/step - loss: 0.3325 - accuracy: 0.8857\n",
            "Test accuracy: 0.885699987411499\n"
          ]
        }
      ]
    }
  ]
}