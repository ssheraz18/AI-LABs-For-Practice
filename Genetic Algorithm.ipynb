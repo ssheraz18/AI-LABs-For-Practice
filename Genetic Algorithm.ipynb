{
  "nbformat": 4,
  "nbformat_minor": 0,
  "metadata": {
    "colab": {
      "provenance": []
    },
    "kernelspec": {
      "name": "python3",
      "display_name": "Python 3"
    },
    "language_info": {
      "name": "python"
    }
  },
  "cells": [
    {
      "cell_type": "code",
      "execution_count": 1,
      "metadata": {
        "id": "pYfvzpC_SO_A"
      },
      "outputs": [],
      "source": [
        "import random\n",
        "\n",
        "def generate_initial_population(population_size, board_size):\n",
        "    return [[random.randint(0, board_size-1) for _ in range(board_size)] for _ in range(population_size)]\n",
        "\n",
        "def calculate_fitness(board):\n",
        "    conflicts = 0\n",
        "    n = len(board)\n",
        "    for i in range(n):\n",
        "        for j in range(i+1, n):\n",
        "            if board[i] == board[j] or abs(board[i] - board[j]) == abs(i - j):\n",
        "                conflicts += 1\n",
        "    return 1 / (conflicts + 1)\n",
        "\n",
        "def selection(population, fitness_scores):\n",
        "\n",
        "    selected_indices = []\n",
        "    for _ in range(len(population)):\n",
        "        index1 = random.randint(0, len(population)-1)\n",
        "        index2 = random.randint(0, len(population)-1)\n",
        "        selected_indices.append(index1 if fitness_scores[index1] > fitness_scores[index2] else index2)\n",
        "    return [population[i] for i in selected_indices]\n",
        "\n",
        "\n",
        "\n",
        "\n"
      ]
    },
    {
      "cell_type": "code",
      "source": [
        "def crossover(parent1, parent2):\n",
        "    crossover_point = random.randint(1, len(parent1) - 2)\n",
        "    child1 = parent1[:crossover_point] + parent2[crossover_point:]\n",
        "    child2 = parent2[:crossover_point] + parent1[crossover_point:]\n",
        "    return child1, child2\n",
        "\n",
        "def mutation(child, mutation_rate):\n",
        "    if random.random() < mutation_rate:\n",
        "        mutation_point = random.randint(0, len(child)-1)\n",
        "        child[mutation_point] = random.randint(0, len(child)-1)\n",
        "    return child"
      ],
      "metadata": {
        "id": "TRrLV4JOSggA"
      },
      "execution_count": 2,
      "outputs": []
    },
    {
      "cell_type": "code",
      "source": [
        "def genetic_algorithm(board_size, population_size, mutation_rate, generations):\n",
        "    population = generate_initial_population(population_size, board_size)\n",
        "    for generation in range(generations):\n",
        "        fitness_scores = [calculate_fitness(board) for board in population]\n",
        "        selected_population = selection(population, fitness_scores)\n",
        "        new_population = []\n",
        "        while len(new_population) < population_size:\n",
        "            parent1, parent2 = random.sample(selected_population, 2)\n",
        "            child1, child2 = crossover(parent1, parent2)\n",
        "            child1 = mutation(child1, mutation_rate)\n",
        "            child2 = mutation(child2, mutation_rate)\n",
        "            new_population.extend([child1, child2])\n",
        "        population = new_population\n",
        "\n",
        "    best_board = max(population, key=calculate_fitness)\n",
        "    return best_board\n"
      ],
      "metadata": {
        "id": "x3zIbJ5OSejU"
      },
      "execution_count": 3,
      "outputs": []
    },
    {
      "cell_type": "code",
      "source": [
        "board_size = 8\n",
        "population_size = 100\n",
        "mutation_rate = 0.1\n",
        "generations = 1000\n",
        "solution = genetic_algorithm(board_size, population_size, mutation_rate, generations)\n",
        "print(\"Solution  is    :\",solution)"
      ],
      "metadata": {
        "colab": {
          "base_uri": "https://localhost:8080/"
        },
        "id": "9Eazlg7cScv9",
        "outputId": "e3344638-8faa-4ae5-bdc8-08c1244f0ecd"
      },
      "execution_count": 4,
      "outputs": [
        {
          "output_type": "stream",
          "name": "stdout",
          "text": [
            "Solution: [1, 4, 6, 0, 2, 7, 5, 3]\n"
          ]
        }
      ]
    }
  ]
}