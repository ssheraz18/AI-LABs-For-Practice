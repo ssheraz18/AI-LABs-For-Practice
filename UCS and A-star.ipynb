{
  "nbformat": 4,
  "nbformat_minor": 0,
  "metadata": {
    "colab": {
      "provenance": []
    },
    "kernelspec": {
      "name": "python3",
      "display_name": "Python 3"
    },
    "language_info": {
      "name": "python"
    }
  },
  "cells": [
    {
      "cell_type": "markdown",
      "source": [
        "#Ques 2"
      ],
      "metadata": {
        "id": "6iBjsyPwoLQ4"
      }
    },
    {
      "cell_type": "code",
      "source": [
        "def uniform_cost_search(graph, cost, start, goal):\n",
        "    answer = [float('inf')] * len(goal)\n",
        "    queue = [(0, start)]\n",
        "    visited = set()\n",
        "    count = 0\n",
        "\n",
        "    while queue:\n",
        "        current_cost, current_node = queue.pop(0)\n",
        "\n",
        "        if current_node in goal:\n",
        "            index = goal.index(current_node)\n",
        "            if answer[index] == float('inf'):\n",
        "                count += 1\n",
        "            answer[index] = current_cost\n",
        "\n",
        "        if current_node not in visited:\n",
        "            for neighbor in graph[current_node]:\n",
        "                new_cost = current_cost + cost.get((current_node, neighbor), 0)\n",
        "                queue.append((new_cost, neighbor))\n",
        "\n",
        "            visited.add(current_node)\n",
        "\n",
        "        if count == len(goal):\n",
        "          return answer\n",
        "graph = [[] for _ in range(7)]\n",
        "\n",
        "graph[0] = [1, 3]\n",
        "\n",
        "graph[1] = [2, 4]\n",
        "graph[2] = [5]\n",
        "graph[3] = [4, 5]\n",
        "graph[4] = [6]\n",
        "graph[5] = [6]\n",
        "\n",
        "cost = {\n",
        "    (0, 1): 4,\n",
        "    (0, 3): 5,\n",
        "    (1, 2): 5,\n",
        "    (1, 4): 4,\n",
        "    (2, 5): 6,\n",
        "    (3, 4): 1,\n",
        "    (3, 5): 3,\n",
        "    (4, 6): 3,\n",
        "    (5, 6): 2\n",
        "\n",
        "}\n",
        "\n",
        "goal = [6]  # Goal node(s)\n",
        "answer = uniform_cost_search(graph, cost, 0, goal)\n",
        "print(\"Minimum cost from start to goal is:\", answer[0])"
      ],
      "metadata": {
        "colab": {
          "base_uri": "https://localhost:8080/"
        },
        "id": "lTOpc7YBoK4t",
        "outputId": "e173c987-b373-4c96-a7a0-b01ce4a87af1"
      },
      "execution_count": 12,
      "outputs": [
        {
          "output_type": "stream",
          "name": "stdout",
          "text": [
            "Minimum cost from start to goal is: 11\n"
          ]
        }
      ]
    },
    {
      "cell_type": "markdown",
      "source": [
        "#Ques 3"
      ],
      "metadata": {
        "id": "qifPL8mkoFvh"
      }
    },
    {
      "cell_type": "code",
      "execution_count": 13,
      "metadata": {
        "colab": {
          "base_uri": "https://localhost:8080/"
        },
        "id": "IWVytdW8mPWa",
        "outputId": "5a4d3f7c-580a-4b0f-d76d-ef5c4677d58e"
      },
      "outputs": [
        {
          "output_type": "stream",
          "name": "stdout",
          "text": [
            "S . . . . 0 0 0 1 0 0 0 0 \n",
            "1 0 1 0 . 0 0 0 0 0 1 0 1 \n",
            "0 0 1 0 . 0 1 0 0 0 0 0 0 \n",
            "1 0 1 0 . 0 1 0 1 0 0 0 1 \n",
            "0 0 1 0 G 0 0 0 0 0 0 0 0 \n",
            "0 0 1 0 1 0 1 0 0 0 1 0 1 \n",
            "0 0 0 0 0 0 0 0 0 0 0 0 0 \n"
          ]
        }
      ],
      "source": [
        "import heapq\n",
        "\n",
        "movements = [(-1, 0), (1, 0), (0, -1), (0, 1)]\n",
        "\n",
        "def heuristic(node, goal):\n",
        "    return abs(node[0] - goal[0]) + abs(node[1] - goal[1])\n",
        "\n",
        "# Define the A* algorithm\n",
        "def a_star_search(cube, start, goal):\n",
        "    frontier = []\n",
        "    heapq.heappush(frontier, (0, start, []))\n",
        "    explored = set()\n",
        "\n",
        "    while frontier:\n",
        "        _, current, path = heapq.heappop(frontier)\n",
        "\n",
        "        if current == goal:\n",
        "            return path + [current]\n",
        "\n",
        "        if current not in explored:\n",
        "            explored.add(current)\n",
        "            for move in movements:\n",
        "                new_position = (current[0] + move[0], current[1] + move[1])\n",
        "                if 0 <= new_position[0] < len(cube) and 0 <= new_position[1] < len(cube[0]):\n",
        "                    if cube[new_position[0]][new_position[1]] == 0:  # Check if the cell is open\n",
        "                        new_cost = len(path) + 1 + heuristic(new_position, goal)\n",
        "                        heapq.heappush(frontier, (new_cost, new_position, path + [current]))\n",
        "\n",
        "    return None\n",
        "\n",
        "def read_cube_from_file(file_path):\n",
        "    with open(file_path, 'r') as file:\n",
        "        lines = [line.strip() for line in file]\n",
        "\n",
        "        max_length = max(len(line) for line in lines)\n",
        "\n",
        "        cube = [[int(char) if char.isdigit() else 0 for char in line.ljust(max_length, '0')] for line in lines]\n",
        "\n",
        "    return cube\n",
        "\n",
        "def print_matrix(matrix):\n",
        "    for row in matrix:\n",
        "        print(row)\n",
        "\n",
        "file_path = 'cube.txt'\n",
        "start_position = (0, 0)\n",
        "goal_position = (4, 4)\n",
        "cube = read_cube_from_file(file_path)\n",
        "path_to_goal = a_star_search(cube, start_position, goal_position)\n",
        "\n",
        "if path_to_goal:\n",
        "\n",
        "    for i, row in enumerate(cube):\n",
        "        for j, value in enumerate(row):\n",
        "            if (i, j) == start_position:\n",
        "                print('S', end=' ')\n",
        "            elif (i, j) == goal_position:\n",
        "                print('G', end=' ')\n",
        "            elif (i, j) in path_to_goal:\n",
        "                print('.', end=' ')\n",
        "            else:\n",
        "                print(value, end=' ')\n",
        "        print()\n",
        "else:\n",
        "    print(\"No path found.\")\n"
      ]
    }
  ]
}