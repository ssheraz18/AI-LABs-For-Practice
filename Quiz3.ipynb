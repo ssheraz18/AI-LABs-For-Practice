{
  "nbformat": 4,
  "nbformat_minor": 0,
  "metadata": {
    "colab": {
      "provenance": []
    },
    "kernelspec": {
      "name": "python3",
      "display_name": "Python 3"
    },
    "language_info": {
      "name": "python"
    }
  },
  "cells": [
    {
      "cell_type": "markdown",
      "source": [
        "This is an individual Quiz and You are supposed to complete it in 45  Minutes. Please adhere to the following guidelines:-\n",
        "\n",
        "* You are in exam conditions, not communication is allowed. If will cancel\n",
        "\n",
        "* your quiz and mark your absent in case of any problems.\n",
        "\n",
        "* Understanding is part of this quiz, do not ask any questions, if you have confusions, assume things, and write your assumptions, No quires, means no quires\n",
        "\n",
        "* No extra time will be awarded.\n",
        "\n",
        "* Mobile phone should be off.\n",
        "\n",
        "* No help from internet is allowed.\n",
        "\n",
        "* Cheating cases will be reported to DC\n",
        "\n",
        "* Pass your smiles in the caffe after this exam, this is not a right place for socialization\n",
        "\n",
        "Good luck."
      ],
      "metadata": {
        "id": "JJI6lAIsRRU7"
      }
    },
    {
      "cell_type": "markdown",
      "source": [
        "Q. No: 1 - Complete the following function which Initialize Centroids for K-means ! **5 marks**"
      ],
      "metadata": {
        "id": "q7GNepq0NxVg"
      }
    },
    {
      "cell_type": "code",
      "source": [
        "import numpy as np\n",
        "def initialize_centroids(data, k):\n",
        "    num_samples, num_features = data.shape\n",
        "    indices = np.random.choice(num_samples, size=k, replace=False)\n",
        "    centroids = data[indices]\n",
        "    return centroids\n"
      ],
      "metadata": {
        "id": "-dqE3DMKr40Q"
      },
      "execution_count": 9,
      "outputs": []
    },
    {
      "cell_type": "markdown",
      "source": [
        "Q. No: 2 - Complete the following function which perfroms MLP Feedforward Step ! **5 marks**"
      ],
      "metadata": {
        "id": "koqoeN7cOuaT"
      }
    },
    {
      "cell_type": "code",
      "source": [
        "def mlp_feedforward(inputs, weights, biases):\n",
        "    num_layers = len(weights)\n",
        "    output = inputs\n",
        "    for layer in range(num_layers):\n",
        "        weighted_sum = np.dot(output, weights[layer]) + biases[layer]\n",
        "        output = weighted_sum\n",
        "    return output\n"
      ],
      "metadata": {
        "id": "ldiy7QBEs14Q"
      },
      "execution_count": 10,
      "outputs": []
    },
    {
      "cell_type": "markdown",
      "source": [
        "Q. No: 3 - Complete the following function which perfroms MLP Backpropagation Update Step ! **5 marks**"
      ],
      "metadata": {
        "id": "AfcD4n5GPNuU"
      }
    },
    {
      "cell_type": "code",
      "source": [
        "def update_weights(weights, gradients, learning_rate):\n",
        "    updated_weights = []\n",
        "    for layer in range(len(weights)):\n",
        "        updated_weight = weights[layer] - learning_rate * gradients[layer]\n",
        "        updated_weights.append(updated_weight)\n",
        "    return updated_weights"
      ],
      "metadata": {
        "id": "2ci8I_kJs27I"
      },
      "execution_count": 11,
      "outputs": []
    },
    {
      "cell_type": "code",
      "source": [
        "import unittest\n",
        "import numpy as np\n",
        "\n",
        "class TestMLAlgorithms(unittest.TestCase):\n",
        "\n",
        "    def test_initialize_centroids(self):\n",
        "        # This test checks if the centroids are initialized correctly from the dataset\n",
        "        data = np.array([[1, 2], [1, 4], [1, 0],\n",
        "                         [10, 2], [10, 4], [10, 0]])\n",
        "        k = 2\n",
        "        centroids = initialize_centroids(data, k)\n",
        "        self.assertEqual(len(centroids), k, \"Incorrect number of centroids initialized\")\n",
        "        self.assertTrue(np.all([any([np.array_equal(x, centroid) for x in data]) for centroid in centroids]), \"Centroids must be selected from the data points\")\n",
        "\n",
        "    def test_mlp_feedforward(self):\n",
        "        # This test checks the output of the MLP feedforward function\n",
        "        inputs = np.array([0.5, -0.2, 0.1])\n",
        "        weights = [np.array([[0.2, -0.3], [0.4, 0.1], [-0.5, 0.2]]),\n",
        "                   np.array([[-0.3], [0.2]])]\n",
        "        biases = [np.array([0.0, 0.0]), np.array([0.0])]\n",
        "        output = mlp_feedforward(inputs, weights, biases)\n",
        "        self.assertIsInstance(output, np.ndarray, \"Output should be a numpy array\")\n",
        "\n",
        "    def test_update_weights(self):\n",
        "        # This test checks the MLP weights update step\n",
        "        weights = [np.array([[0.2, -0.3], [0.4, 0.1], [-0.5, 0.2]]),\n",
        "                   np.array([[-0.3], [0.2]])]\n",
        "        gradients = [np.array([[0.01, -0.02], [0.03, 0.04], [-0.05, 0.01]]),\n",
        "                     np.array([[0.02], [-0.03]])]\n",
        "        learning_rate = 0.1\n",
        "        updated_weights = update_weights(weights, gradients, learning_rate)\n",
        "        self.assertTrue(all([w.shape == uw.shape for w, uw in zip(weights, updated_weights)]), \"Updated weights must match the original dimensions\")\n",
        "        self.assertTrue(all([isinstance(w, np.ndarray) for w in updated_weights]), \"Each weight matrix must be a numpy array\")\n",
        "\n",
        "# Execute the tests\n",
        "if __name__ == '__main__':\n",
        "    unittest.main(argv=[''], exit=False)"
      ],
      "metadata": {
        "colab": {
          "base_uri": "https://localhost:8080/"
        },
        "id": "msr9BvVeNmKX",
        "outputId": "075498dc-609b-4e76-ebbb-4958d2bbe642"
      },
      "execution_count": 12,
      "outputs": [
        {
          "output_type": "stream",
          "name": "stderr",
          "text": [
            "...\n",
            "----------------------------------------------------------------------\n",
            "Ran 3 tests in 0.007s\n",
            "\n",
            "OK\n"
          ]
        }
      ]
    }
  ]
}