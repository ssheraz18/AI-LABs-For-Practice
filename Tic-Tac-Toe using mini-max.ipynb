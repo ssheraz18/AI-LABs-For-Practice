{
  "nbformat": 4,
  "nbformat_minor": 0,
  "metadata": {
    "colab": {
      "provenance": []
    },
    "kernelspec": {
      "name": "python3",
      "display_name": "Python 3"
    },
    "language_info": {
      "name": "python"
    }
  },
  "cells": [
    {
      "cell_type": "code",
      "execution_count": 5,
      "metadata": {
        "id": "a4dKUmmfR0Ay"
      },
      "outputs": [],
      "source": [
        "def board(s):\n",
        "    def convert(num):\n",
        "        if num == BOARD_PLAYER_X:\n",
        "            return 'X'\n",
        "        if num == BOARD_PLAYER_O:\n",
        "            return 'O'\n",
        "        return '_'\n",
        "\n",
        "    i = 0\n",
        "    for _ in range(3):\n",
        "        for _ in range(3):\n",
        "            print(convert(s[i]), end=' ')\n",
        "            i += 1\n",
        "        print()"
      ]
    },
    {
      "cell_type": "code",
      "source": [
        "def player(s):\n",
        "    counter = Counter(s)\n",
        "    x_places = counter[1]\n",
        "    o_places = counter[-1]\n",
        "\n",
        "    if x_places + o_places == 9:\n",
        "        return None\n",
        "    elif x_places > o_places:\n",
        "        return BOARD_PLAYER_O\n",
        "    else:\n",
        "        return BOARD_PLAYER_X"
      ],
      "metadata": {
        "id": "o5jTFomTZXnn"
      },
      "execution_count": 6,
      "outputs": []
    },
    {
      "cell_type": "code",
      "source": [
        "def actions(s):\n",
        "    play = player(s)\n",
        "    actions_list = [(play, i) for i in range(len(s)) if s[i] == BOARD_EMPTY]\n",
        "    return actions_list\n",
        "def result(s, a):\n",
        "    (play, index) = a\n",
        "    s_copy = s.copy()\n",
        "    s_copy[index] = play\n",
        "    return s_copy"
      ],
      "metadata": {
        "id": "j09iF3xOZiez"
      },
      "execution_count": 7,
      "outputs": []
    },
    {
      "cell_type": "code",
      "source": [
        "def terminal(s):\n",
        "    for i in range(3):\n",
        "        if s[3 * i] == s[3 * i + 1] == s[3 * i + 2] != BOARD_EMPTY:\n",
        "            return s[3 * i]\n",
        "        if s[i] == s[i + 3] == s[i + 6] != BOARD_EMPTY:\n",
        "            return s[i]\n",
        "\n",
        "    if s[0] == s[4] == s[8] != BOARD_EMPTY:\n",
        "        return s[0]\n",
        "    if s[2] == s[4] == s[6] != BOARD_EMPTY:\n",
        "        return s[2]\n",
        "\n",
        "    if player(s) is None:\n",
        "        return 0\n",
        "\n",
        "    return None"
      ],
      "metadata": {
        "id": "xMGYkcVrZol7"
      },
      "execution_count": 8,
      "outputs": []
    },
    {
      "cell_type": "code",
      "source": [
        "def utility(s, cost):\n",
        "    term = terminal(s)\n",
        "    if term is not None:\n",
        "        return (term, cost)\n",
        "\n",
        "    action_list = actions(s)\n",
        "    utils = []\n",
        "    for action in action_list:\n",
        "        new_s = result(s, action)\n",
        "        utils.append(utility(new_s, cost + 1))\n",
        "\n",
        "    score = utils[0][0]\n",
        "    idx_cost = utils[0][1]\n",
        "    play = player(s)\n",
        "    if play == BOARD_PLAYER_X:\n",
        "        for i in range(len(utils)):\n",
        "           if utils[i][0] > score:\n",
        "                score = utils[i][0]\n",
        "                idx_cost = utils[i][1]\n",
        "    else:\n",
        "        for i in range(len(utils)):\n",
        "           if utils[i][0] < score:\n",
        "                score = utils[i][0]\n",
        "                idx_cost = utils[i][1]\n",
        "    return (score, idx_cost)"
      ],
      "metadata": {
        "id": "n__TZ4UnZr8a"
      },
      "execution_count": 9,
      "outputs": []
    },
    {
      "cell_type": "code",
      "source": [
        "def minimax(s):\n",
        "    action_list = actions(s)\n",
        "    utils = []\n",
        "    for action in action_list:\n",
        "        new_s = result(s, action)\n",
        "        utils.append((action, utility(new_s, 1)))\n",
        "\n",
        "    if len(utils) == 0:\n",
        "        return ((0,0), (0, 0))\n",
        "\n",
        "    sorted_list = sorted(utils, key=lambda l : l[0][1])\n",
        "    action = min(sorted_list, key = lambda l : l[1])\n",
        "    return action"
      ],
      "metadata": {
        "id": "fd--Qk_CZu7I"
      },
      "execution_count": 10,
      "outputs": []
    },
    {
      "cell_type": "code",
      "source": [
        "\n",
        "from collections import Counter\n",
        "\n",
        "BOARD_EMPTY = 0\n",
        "BOARD_PLAYER_X = 1\n",
        "BOARD_PLAYER_O = -1\n",
        "if __name__ == '__main__':\n",
        "    s = [BOARD_EMPTY for _ in range(9)]\n",
        "    print('|------- WELCOME TO TIC TAC TOE -----------|')\n",
        "    print('You are X while the Computer is O')\n",
        "\n",
        "    while terminal(s) is None:\n",
        "        play = player(s)\n",
        "        if play == BOARD_PLAYER_X:\n",
        "            print('\\n\\nIt is your turn', end='\\n\\n')\n",
        "            x = int(input('Enter the x-coordinate [0-2]: '))\n",
        "            y = int(input('Enter the y-coordinate [0-2]: '))\n",
        "            index = 3 * x + y\n",
        "\n",
        "            if not s[index] == BOARD_EMPTY:\n",
        "                print('That coordinate is already taken. Please try again.')\n",
        "                continue\n",
        "\n",
        "            s = result(s, (1, index))\n",
        "            board(s)\n",
        "        else:\n",
        "            print('\\n\\nThe is computer is playing its turn')\n",
        "            action = minimax(s)\n",
        "            s = result(s, action[0])\n",
        "            board(s)\n",
        "\n",
        "    winner = utility(s, 1)[0]\n",
        "    if winner == BOARD_PLAYER_X:\n",
        "        print(\"You have won!\")\n",
        "    elif winner == BOARD_PLAYER_O:\n",
        "        print(\"You have lost!\")\n",
        "    else:\n",
        "        print(\"It's a tie.\")0\n",
        ""
      ],
      "metadata": {
        "colab": {
          "base_uri": "https://localhost:8080/"
        },
        "id": "17FP7rl1Zyxo",
        "outputId": "96dfa5a7-383e-41dd-e727-f69962692fcd"
      },
      "execution_count": 11,
      "outputs": [
        {
          "output_type": "stream",
          "name": "stdout",
          "text": [
            "|------- WELCOME TO TIC TAC TOE -----------|\n",
            "You are X while the Computer is O\n",
            "\n",
            "\n",
            "It is your turn\n",
            "\n",
            "Enter the x-coordinate [0-2]: 1\n",
            "Enter the y-coordinate [0-2]: 2\n",
            "_ _ _ \n",
            "_ _ X \n",
            "_ _ _ \n",
            "\n",
            "\n",
            "The is computer is playing its turn\n",
            "_ _ O \n",
            "_ _ X \n",
            "_ _ _ \n",
            "\n",
            "\n",
            "It is your turn\n",
            "\n",
            "Enter the x-coordinate [0-2]: 1\n",
            "Enter the y-coordinate [0-2]: 2\n",
            "That coordinate is already taken. Please try again.\n",
            "\n",
            "\n",
            "It is your turn\n",
            "\n",
            "Enter the x-coordinate [0-2]: 1\n",
            "Enter the y-coordinate [0-2]: 0\n",
            "_ _ O \n",
            "X _ X \n",
            "_ _ _ \n",
            "\n",
            "\n",
            "The is computer is playing its turn\n",
            "_ _ O \n",
            "X O X \n",
            "_ _ _ \n",
            "\n",
            "\n",
            "It is your turn\n",
            "\n",
            "Enter the x-coordinate [0-2]: 1\n",
            "Enter the y-coordinate [0-2]: 2\n",
            "That coordinate is already taken. Please try again.\n",
            "\n",
            "\n",
            "It is your turn\n",
            "\n",
            "Enter the x-coordinate [0-2]: 0\n",
            "Enter the y-coordinate [0-2]: 0\n",
            "X _ O \n",
            "X O X \n",
            "_ _ _ \n",
            "\n",
            "\n",
            "The is computer is playing its turn\n",
            "X _ O \n",
            "X O X \n",
            "O _ _ \n",
            "You have lost!\n"
          ]
        }
      ]
    }
  ]
}