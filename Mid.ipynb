{
  "cells": [
    {
      "cell_type": "markdown",
      "metadata": {
        "id": "teUfGUr3tF5i"
      },
      "source": [
        "***Q. No. 1*** - Navigate through a simple 2D maze using BFS to find if there's a path from the start to the goal. Complete the implementation of the BFS algorithm to find the shortest path through a maze represented by a 2D grid. The function is partially written; fill in the missing parts to enqueue neighboring nodes properly and ensure the path is tracked efficiently."
      ]
    },
    {
      "cell_type": "code",
      "execution_count": null,
      "metadata": {
        "id": "cixYS_nrVQ4d"
      },
      "outputs": [],
      "source": [
        "def bfs_in_a_maze(maze, start, end):\n",
        "    rows, cols = len(maze), len(maze[0])\n",
        "    queue = [start]\n",
        "    visited = set(start)\n",
        "    directions = [(0, 1), (0, -1), (1, 0), (-1, 0)]\n",
        "\n",
        "    while queue:\n",
        "        current = queue.pop(0)\n",
        "        if current == end:\n",
        "            return True  # Path found\n",
        "        for dx, dy in directions:\n",
        "            nextx, nexty = current[0] + dx, current[1] + dy\n",
        "            nextpos = (nextx, nexty)\n",
        "            if 0 <= nextx < rows and 0 <= nexty < cols and maze[nextx][nexty] == 0 and nextpos not in visited:\n",
        "                queue.append(nextpos)\n",
        "                visited.add(nextpos)\n",
        "\n",
        "    return False  # No path found\n",
        "\n",
        "# Initialized maze (0: path, 1: wall)\n",
        "maze = [\n",
        "    [0, 1, 0, 0, 0],\n",
        "    [0, 1, 0, 1, 0],\n",
        "    [0, 0, 0, 1, 0],\n",
        "    [1, 1, 0, 0, 0],\n",
        "    [0, 0, 0, 1, 0]\n",
        "]\n",
        "start, end = (0, 0), (4, 4)\n",
        "assert bfs_in_a_maze(maze, start, end) == True\n"
      ]
    },
    {
      "cell_type": "markdown",
      "metadata": {
        "id": "B0pE6pxStskf"
      },
      "source": [
        "***Q. No. 2*** - Implement the missing parts of a recursive DFS function applied to a graph structure. The base case is provided, and your task is to complete the recursive calls, ensuring the algorithm correctly avoids revisiting nodes."
      ]
    },
    {
      "cell_type": "code",
      "execution_count": 4,
      "metadata": {
        "id": "28rGp7Zxtkfj"
      },
      "outputs": [],
      "source": [
        "def dfs_recursive(graph, node, visited=None):\n",
        "    if visited is None:\n",
        "        visited = set()\n",
        "    visited.add(node)\n",
        "    for neighbour in graph[node]:\n",
        "        if neighbour not in visited:\n",
        "            dfs_recursive(graph, neighbour, visited)\n",
        "    return visited\n",
        "\n",
        "# Initialized graph\n",
        "graph = {\n",
        "    'A': ['B', 'C'],\n",
        "    'B': ['A', 'D', 'E'],\n",
        "    'C': ['A', 'F'],\n",
        "    'D': ['B'],\n",
        "    'E': ['B', 'F'],\n",
        "    'F': ['C', 'E']\n",
        "}\n",
        "start_node = 'A'\n",
        "# Expected output includes all nodes since it's a connected graph\n",
        "expected_visited = {'A', 'B', 'C', 'D', 'E', 'F'}\n",
        "# Test assertion\n",
        "assert dfs_recursive(graph, start_node) == expected_visited\n"
      ]
    },
    {
      "cell_type": "markdown",
      "metadata": {
        "id": "y25G-GPEtxK9"
      },
      "source": [
        "***Q. No. 3*** - Given a list of numbers, use Python list comprehensions to create a new list containing the square of each odd number in the original list. The initial list and a partial function are provided; complete the list comprehension part."
      ]
    },
    {
      "cell_type": "code",
      "execution_count": 3,
      "metadata": {
        "colab": {
          "base_uri": "https://localhost:8080/"
        },
        "id": "zun62DUtXT-w",
        "outputId": "e8d2be03-c8fc-4850-ac63-5f27d000065a"
      },
      "outputs": [
        {
          "name": "stdout",
          "output_type": "stream",
          "text": [
            "the odd numbers squares are : \n",
            "[1, 2, 9, 4]\n"
          ]
        }
      ],
      "source": [
        "def transform_list(input_list):\n",
        "    lstt = []\n",
        "    for i in input_list:\n",
        "        if i % 2 == 1:\n",
        "            a = i ** 2\n",
        "            lstt.append(a)\n",
        "        else:\n",
        "         lstt.append(i)\n",
        "    return lstt\n",
        "\n",
        "# Test input and assertion\n",
        "test_input = [1, 2, 3, 4]\n",
        "expected_output = [1, 2, 9, 4]\n",
        "result = transform_list(test_input)\n",
        "print(\"the odd numbers squares are : \")\n",
        "print(result)\n"
      ]
    },
    {
      "cell_type": "markdown",
      "metadata": {
        "id": "FnUnKtiGuBqP"
      },
      "source": [
        "***Q. No. 4*** - Implement the missing parts of the Uniform Cost Search algorithm to find the lowest cost path in a weighted graph from a start node to a goal node. The initial setup, including the priority queue, is provided. Focus on handling node costs correctly and ensuring the lowest cost path is selected"
      ]
    },
    {
      "cell_type": "code",
      "execution_count": 121,
      "metadata": {
        "colab": {
          "base_uri": "https://localhost:8080/"
        },
        "id": "fUFIHxBcuEYr",
        "outputId": "6dccc8cc-8038-47c3-b7c5-fed21ed266da"
      },
      "outputs": [
        {
          "name": "stdout",
          "output_type": "stream",
          "text": [
            "5\n"
          ]
        }
      ],
      "source": [
        "def uniform_cost_search(graph, start, goal):\n",
        "    from queue import PriorityQueue\n",
        "    frontier = PriorityQueue()\n",
        "    frontier.put((0, start))\n",
        "    came_from = {start: None}\n",
        "    cost_so_far = {start: 0}\n",
        "\n",
        "# Initialized weighted graph\n",
        "\n",
        "    while not frontier.empty():\n",
        "        _, current_node = frontier.get()\n",
        "\n",
        "        if current_node == goal:\n",
        "            break\n",
        "\n",
        "        for neighbor, weight in graph[current_node].items():\n",
        "            new_cost = cost_so_far[current_node] + weight\n",
        "            if neighbor not in cost_so_far or new_cost < cost_so_far[neighbor]:\n",
        "                cost_so_far[neighbor] = new_cost\n",
        "                came_from[neighbor] = current_node\n",
        "                frontier.put((new_cost, neighbor))\n",
        "\n",
        "    # Compute the path cost from start to goal\n",
        "    path_cost = cost_so_far[goal]\n",
        "    return path_cost\n",
        "graph = {\n",
        "    'A': {'B': 2, 'C': 5},\n",
        "    'B': {'A': 2, 'D': 3, 'E': 1},\n",
        "    'C': {'A': 5, 'E': 2},\n",
        "    'D': {'B': 3},\n",
        "    'E': {'B': 1, 'C': 2}\n",
        "}\n",
        "start, goal = 'A', 'D'\n",
        "expected_path_cost1 =6\n",
        "# A->B->D or A->B->E->C->A->B->D\n",
        "# Test assertion\n",
        "#assert uniform_cost_search(graph, start, goal) == expected_path_cost1\n",
        "#assert not work\n",
        "path_cost = uniform_cost_search(graph, start, goal)\n",
        "print(path_cost)\n"
      ]
    },
    {
      "cell_type": "markdown",
      "metadata": {
        "id": "8jPMlE9muRKG"
      },
      "source": [
        "***Q. No. 5 -*** Given a dataset containing sales records for a bookstore where each record is a dictionary with keys 'title', 'author', 'genre', and 'sold', implement a Python function that summarizes total sales per genre.\n",
        "\n",
        "Function Requirements:\n",
        "\n",
        "Input: A list of dictionaries, each representing a sales record.\n",
        "Output: A dictionary with genres as keys and total sales in those genres as values."
      ]
    },
    {
      "cell_type": "code",
      "execution_count": 122,
      "metadata": {
        "colab": {
          "base_uri": "https://localhost:8080/"
        },
        "id": "aa5zXXxof8W5",
        "outputId": "904edbc8-d051-4740-9acc-2b38d26015d0"
      },
      "outputs": [
        {
          "name": "stdout",
          "output_type": "stream",
          "text": [
            "{'Fantasy': 150, 'Science Fiction': 200, 'Non-Fiction': 80}\n"
          ]
        },
        {
          "data": {
            "text/plain": [
              "{'Fantasy': 450, 'Science Fiction': 350, 'Non-Fiction': 80}"
            ]
          },
          "execution_count": 122,
          "metadata": {},
          "output_type": "execute_result"
        }
      ],
      "source": [
        "def summarize_sales_by_genre(sales_data):\n",
        "    genre_sales = {}\n",
        "    for record in sales_data:\n",
        "        genre = record['genre']\n",
        "        sold = record['sold']\n",
        "        if genre in genre_sales:\n",
        "            genre_sales[genre] += sold\n",
        "        else:\n",
        "            genre_sales[genre] = sold\n",
        "    return genre_sales\n",
        "\n",
        "# Test your function\n",
        "sales_data = [\n",
        "    {'title': 'Book A', 'author': 'Author X', 'genre': 'Fantasy', 'sold': 150},\n",
        "    {'title': 'Book B', 'author': 'Author Y', 'genre': 'Science Fiction', 'sold': 200},\n",
        "    {'title': 'Book C', 'author': 'Author Z', 'genre': 'Fantasy', 'sold': 300},\n",
        "    {'title': 'Book D', 'author': 'Author W', 'genre': 'Non-Fiction', 'sold': 80},\n",
        "    {'title': 'Book E', 'author': 'Author V', 'genre': 'Science Fiction', 'sold': 150}\n",
        "]\n",
        "\n",
        "# Example assertion for testing (adjust according to your test data)\n",
        "expected_output = {'Fantasy': 150, 'Science Fiction': 200, 'Non-Fiction': 80}\n",
        "\n",
        "print(expected_output)\n",
        "#assert give error\n",
        "summarize_sales_by_genre(sales_data)\n"
      ]
    },
    {
      "cell_type": "code",
      "execution_count": 123,
      "metadata": {
        "colab": {
          "base_uri": "https://localhost:8080/",
          "height": 321
        },
        "id": "NHxMun7Jubgk",
        "outputId": "96ac544d-1e07-402d-e429-c1bd43cfacef"
      },
      "outputs": [
        {
          "ename": "TypeError",
          "evalue": "can only concatenate str (not \"int\") to str",
          "output_type": "error",
          "traceback": [
            "\u001b[0;31m---------------------------------------------------------------------------\u001b[0m",
            "\u001b[0;31mTypeError\u001b[0m                                 Traceback (most recent call last)",
            "\u001b[0;32m<ipython-input-123-bc986a04fc92>\u001b[0m in \u001b[0;36m<cell line: 9>\u001b[0;34m()\u001b[0m\n\u001b[1;32m      8\u001b[0m \u001b[0;34m\u001b[0m\u001b[0m\n\u001b[1;32m      9\u001b[0m \u001b[0;32mif\u001b[0m \u001b[0m__name__\u001b[0m \u001b[0;34m==\u001b[0m \u001b[0;34m\"__main__\"\u001b[0m\u001b[0;34m:\u001b[0m\u001b[0;34m\u001b[0m\u001b[0;34m\u001b[0m\u001b[0m\n\u001b[0;32m---> 10\u001b[0;31m     \u001b[0mmain\u001b[0m\u001b[0;34m(\u001b[0m\u001b[0;34m)\u001b[0m\u001b[0;34m\u001b[0m\u001b[0;34m\u001b[0m\u001b[0m\n\u001b[0m",
            "\u001b[0;32m<ipython-input-123-bc986a04fc92>\u001b[0m in \u001b[0;36mmain\u001b[0;34m()\u001b[0m\n\u001b[1;32m      1\u001b[0m \u001b[0;32mdef\u001b[0m \u001b[0mmain\u001b[0m\u001b[0;34m(\u001b[0m\u001b[0;34m)\u001b[0m\u001b[0;34m:\u001b[0m\u001b[0;34m\u001b[0m\u001b[0;34m\u001b[0m\u001b[0m\n\u001b[1;32m      2\u001b[0m     \u001b[0;31m# Execute each test\u001b[0m\u001b[0;34m\u001b[0m\u001b[0;34m\u001b[0m\u001b[0m\n\u001b[0;32m----> 3\u001b[0;31m     \u001b[0mprint\u001b[0m\u001b[0;34m(\u001b[0m\u001b[0;34m\"BFS in a Maze Test:\"\u001b[0m\u001b[0;34m,\u001b[0m \u001b[0;34m\"Passed\"\u001b[0m \u001b[0;32mif\u001b[0m \u001b[0mbfs_in_a_maze\u001b[0m\u001b[0;34m(\u001b[0m\u001b[0mmaze\u001b[0m\u001b[0;34m,\u001b[0m \u001b[0mstart\u001b[0m\u001b[0;34m,\u001b[0m \u001b[0mend\u001b[0m\u001b[0;34m)\u001b[0m \u001b[0;32melse\u001b[0m \u001b[0;34m\"Failed\"\u001b[0m\u001b[0;34m)\u001b[0m\u001b[0;34m\u001b[0m\u001b[0;34m\u001b[0m\u001b[0m\n\u001b[0m\u001b[1;32m      4\u001b[0m     \u001b[0mprint\u001b[0m\u001b[0;34m(\u001b[0m\u001b[0;34m\"DFS Recursive Test:\"\u001b[0m\u001b[0;34m,\u001b[0m \u001b[0;34m\"Passed\"\u001b[0m \u001b[0;32mif\u001b[0m \u001b[0mdfs_recursive\u001b[0m\u001b[0;34m(\u001b[0m\u001b[0mgraph\u001b[0m\u001b[0;34m,\u001b[0m \u001b[0mstart_node\u001b[0m\u001b[0;34m)\u001b[0m \u001b[0;34m==\u001b[0m \u001b[0mexpected_visited\u001b[0m \u001b[0;32melse\u001b[0m \u001b[0;34m\"Failed\"\u001b[0m\u001b[0;34m)\u001b[0m\u001b[0;34m\u001b[0m\u001b[0;34m\u001b[0m\u001b[0m\n\u001b[1;32m      5\u001b[0m     \u001b[0mprint\u001b[0m\u001b[0;34m(\u001b[0m\u001b[0;34m\"List Manipulation Test:\"\u001b[0m\u001b[0;34m,\u001b[0m \u001b[0;34m\"Passed\"\u001b[0m \u001b[0;32mif\u001b[0m \u001b[0mtransform_list\u001b[0m\u001b[0;34m(\u001b[0m\u001b[0mtest_input\u001b[0m\u001b[0;34m)\u001b[0m \u001b[0;34m==\u001b[0m \u001b[0mexpected_output\u001b[0m \u001b[0;32melse\u001b[0m \u001b[0;34m\"Failed\"\u001b[0m\u001b[0;34m)\u001b[0m\u001b[0;34m\u001b[0m\u001b[0;34m\u001b[0m\u001b[0m\n",
            "\u001b[0;32m<ipython-input-118-5ac3fbda108c>\u001b[0m in \u001b[0;36mbfs_in_a_maze\u001b[0;34m(maze, start, end)\u001b[0m\n\u001b[1;32m     10\u001b[0m             \u001b[0;32mreturn\u001b[0m \u001b[0;32mTrue\u001b[0m  \u001b[0;31m# Path found\u001b[0m\u001b[0;34m\u001b[0m\u001b[0;34m\u001b[0m\u001b[0m\n\u001b[1;32m     11\u001b[0m         \u001b[0;32mfor\u001b[0m \u001b[0mdx\u001b[0m\u001b[0;34m,\u001b[0m \u001b[0mdy\u001b[0m \u001b[0;32min\u001b[0m \u001b[0mdirections\u001b[0m\u001b[0;34m:\u001b[0m\u001b[0;34m\u001b[0m\u001b[0;34m\u001b[0m\u001b[0m\n\u001b[0;32m---> 12\u001b[0;31m             \u001b[0mnextx\u001b[0m\u001b[0;34m,\u001b[0m \u001b[0mnexty\u001b[0m \u001b[0;34m=\u001b[0m \u001b[0mcurrent\u001b[0m\u001b[0;34m[\u001b[0m\u001b[0;36m0\u001b[0m\u001b[0;34m]\u001b[0m \u001b[0;34m+\u001b[0m \u001b[0mdx\u001b[0m\u001b[0;34m,\u001b[0m \u001b[0mcurrent\u001b[0m\u001b[0;34m[\u001b[0m\u001b[0;36m1\u001b[0m\u001b[0;34m]\u001b[0m \u001b[0;34m+\u001b[0m \u001b[0mdy\u001b[0m\u001b[0;34m\u001b[0m\u001b[0;34m\u001b[0m\u001b[0m\n\u001b[0m\u001b[1;32m     13\u001b[0m             \u001b[0mnextpos\u001b[0m \u001b[0;34m=\u001b[0m \u001b[0;34m(\u001b[0m\u001b[0mnextx\u001b[0m\u001b[0;34m,\u001b[0m \u001b[0mnexty\u001b[0m\u001b[0;34m)\u001b[0m\u001b[0;34m\u001b[0m\u001b[0;34m\u001b[0m\u001b[0m\n\u001b[1;32m     14\u001b[0m             \u001b[0;32mif\u001b[0m \u001b[0;36m0\u001b[0m \u001b[0;34m<=\u001b[0m \u001b[0mnextx\u001b[0m \u001b[0;34m<\u001b[0m \u001b[0mrows\u001b[0m \u001b[0;32mand\u001b[0m \u001b[0;36m0\u001b[0m \u001b[0;34m<=\u001b[0m \u001b[0mnexty\u001b[0m \u001b[0;34m<\u001b[0m \u001b[0mcols\u001b[0m \u001b[0;32mand\u001b[0m \u001b[0mmaze\u001b[0m\u001b[0;34m[\u001b[0m\u001b[0mnextx\u001b[0m\u001b[0;34m]\u001b[0m\u001b[0;34m[\u001b[0m\u001b[0mnexty\u001b[0m\u001b[0;34m]\u001b[0m \u001b[0;34m==\u001b[0m \u001b[0;36m0\u001b[0m \u001b[0;32mand\u001b[0m \u001b[0mnextpos\u001b[0m \u001b[0;32mnot\u001b[0m \u001b[0;32min\u001b[0m \u001b[0mvisited\u001b[0m\u001b[0;34m:\u001b[0m\u001b[0;34m\u001b[0m\u001b[0;34m\u001b[0m\u001b[0m\n",
            "\u001b[0;31mTypeError\u001b[0m: can only concatenate str (not \"int\") to str"
          ]
        }
      ],
      "source": [
        "def main():\n",
        "    # Execute each test\n",
        "    #assert not work\n",
        "    print(\"BFS in a Maze Test:\", \"Passed\" if bfs_in_a_maze(maze, start, end) else \"Failed\")\n",
        "    print(\"DFS Recursive Test:\", \"Passed\" if dfs_recursive(graph, start_node) == expected_visited else \"Failed\")\n",
        "    print(\"List Manipulation Test:\", \"Passed\" if transform_list(test_input) == expected_output else \"Failed\")\n",
        "    print(\"Uniform Cost Search Test:\", \"Passed\" if uniform_cost_search(graph, start, goal) == expected_path_cost else \"Failed\")\n",
        "    print(\"Sales Summary by Genre Test:\", \"Passed\" if summarize_sales_by_genre(sales_data) == expected_output else \"Failed\")\n",
        "\n",
        "if __name__ == \"__main__\":\n",
        "    main()\n"
      ]
    },
    {
      "cell_type": "code",
      "execution_count": null,
      "metadata": {
        "id": "5gIPSA8nNAfm"
      },
      "outputs": [],
      "source": []
    }
  ],
  "metadata": {
    "colab": {
      "provenance": []
    },
    "kernelspec": {
      "display_name": "Python 3",
      "name": "python3"
    },
    "language_info": {
      "codemirror_mode": {
        "name": "ipython",
        "version": 3
      },
      "file_extension": ".py",
      "mimetype": "text/x-python",
      "name": "python",
      "nbconvert_exporter": "python",
      "pygments_lexer": "ipython3",
      "version": "3.13.3"
    }
  },
  "nbformat": 4,
  "nbformat_minor": 0
}